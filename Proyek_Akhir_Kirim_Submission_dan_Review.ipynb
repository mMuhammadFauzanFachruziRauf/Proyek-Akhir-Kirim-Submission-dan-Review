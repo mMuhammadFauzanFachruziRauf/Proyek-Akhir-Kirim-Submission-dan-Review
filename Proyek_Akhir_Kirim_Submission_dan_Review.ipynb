{
  "cells": [
    {
      "cell_type": "markdown",
      "metadata": {
        "id": "H9wADwK78DCz"
      },
      "source": [
        "# Proyek Analisis Data: Proyek Akhir Kirim Submission dan Review\n",
        "- **Nama:** Muhammad Fauzan Fachruzi Rauf\n",
        "- **Email:** fauzan01rauf@gmail.com\n",
        "- **ID Dicoding:** mfauzanfr01"
      ]
    },
    {
      "cell_type": "markdown",
      "source": [
        "# **Tahap 1 : Project Overview - Domain Proyek**\n"
      ],
      "metadata": {
        "id": "dixVMy5MM9VF"
      }
    },
    {
      "cell_type": "markdown",
      "source": [
        "# 📽️ Proyek Sistem Rekomendasi Film\n",
        "\n",
        "## 1. Latar Belakang\n",
        "\n",
        "Pertumbuhan eksponensial konten digital seperti film dan acara TV di berbagai platform streaming (Netflix, Amazon Prime, Disney+, dan lainnya) memberikan kemudahan akses bagi pengguna. Namun, hal ini juga menimbulkan masalah yang disebut sebagai **_information overload_** atau **_paradox of choice_** — yaitu kesulitan dalam memilih konten yang sesuai dari ribuan pilihan yang tersedia.\n",
        "\n",
        "Di sinilah **sistem rekomendasi** berperan penting. Sistem ini membantu pengguna menemukan konten yang relevan dan personal secara otomatis, sehingga:\n",
        "\n",
        "- Meningkatkan pengalaman menonton pengguna.\n",
        "- Mengurangi waktu pencarian konten.\n",
        "- Meningkatkan engagement dan retensi pengguna pada platform streaming.\n",
        "\n",
        "---\n",
        "\n",
        "## 2. Pentingnya Proyek Ini\n",
        "\n",
        "### 🎯 Bagi Pengguna\n",
        "- Membantu menemukan film atau acara TV yang sesuai dengan preferensi mereka.\n",
        "- Menghemat waktu dalam proses pencarian konten.\n",
        "- Menemukan konten baru yang mungkin tidak mereka temukan sendiri.\n",
        "\n",
        "### 💼 Bagi Platform Streaming\n",
        "- Meningkatkan **keterlibatan pengguna (user engagement)**.\n",
        "- Meningkatkan **loyalitas dan retensi pengguna**.\n",
        "- Meningkatkan jumlah film/acara yang dikonsumsi oleh pengguna.\n",
        "\n",
        "### 🎬 Bagi Industri Film\n",
        "- Membuka peluang promosi untuk film-film **niche atau kurang populer**.\n",
        "- Menjangkau audiens yang lebih relevan dengan konten tertentu.\n",
        "\n",
        "### 📘 Bagi Pembelajaran (Sebagai Siswa Dicoding)\n",
        "- Melatih penerapan **algoritma machine learning** dalam kehidupan nyata.\n",
        "- Mempelajari teknik populer seperti **collaborative filtering** dan **content-based filtering**.\n",
        "- Mendalami pemanfaatan **data pengguna** dalam personalisasi sistem.\n",
        "\n",
        "---\n",
        "\n",
        "## 3. Referensi dan Studi Pendukung\n",
        "\n",
        "\n",
        "### 📚 Referensi Akademik:\n",
        "- Sarwar, B., Karypis, G., Konstan, J., & Riedl, J. (2001).  \n",
        "  *Item-based collaborative filtering recommendation algorithms*.  \n",
        "  *Proceedings of the 10th international conference on World Wide Web.*\n",
        "  https://dl.acm.org/doi/10.1145/371920.372071\n",
        "\n",
        "- Ricci, F., Rokach, L., & Shapira, B. (2011).  \n",
        "  *Introduction to Recommender Systems Handbook*.  \n",
        "  *Recommender Systems Handbook.*\n",
        "  https://www.scirp.org/reference/referencespapers?referenceid=1054693\n",
        "\n",
        "---\n",
        "\n",
        "> 💡 *Proyek ini tidak hanya penting untuk industri hiburan, tetapi juga sebagai fondasi pembelajaran dalam membangun sistem cerdas yang berdampak langsung pada pengalaman pengguna.*\n"
      ],
      "metadata": {
        "id": "5BQXyXnhNEBE"
      }
    },
    {
      "cell_type": "markdown",
      "source": [
        "# **Tahap 2 : Business Understanding**"
      ],
      "metadata": {
        "id": "IHzlOWDTOBt8"
      }
    },
    {
      "cell_type": "markdown",
      "source": [
        "# ❓ Problem Statements (Pernyataan Masalah)\n",
        "\n",
        "1. **Information Overload:**\n",
        "   > Pengguna dihadapkan pada volume besar pilihan film yang tersedia pada platform digital, mengakibatkan kesulitan dalam menemukan film yang benar-benar sesuai dengan preferensi individu secara efisien.  \n",
        "   Fenomena ini dikenal sebagai *information overload* dan dapat menurunkan kualitas pengalaman pengguna.\n",
        "\n",
        "2. **Kurangnya Eksplorasi Film:**\n",
        "   > Keterbatasan dalam eksplorasi film menyebabkan banyak karya sinematik, terutama yang berasal dari produksi independen atau rilisan lampau, menjadi kurang terekspos kepada audiens yang potensial, meskipun film tersebut mungkin relevan dengan minat mereka.\n",
        "\n",
        "3. **Rekomendasi yang Tidak Personal:**\n",
        "   > Penyajian rekomendasi yang kurang personal atau tidak akurat dapat menyebabkan pengguna merasa frustrasi dan berpotensi mengurangi tingkat interaksi (*engagement*) mereka dengan layanan penyedia konten film.\n",
        "\n",
        "---\n",
        "\n",
        "# 🎯 Goals (Tujuan Proyek)\n",
        "\n",
        "- Mengembangkan **dua model sistem rekomendasi film** — satu berbasis konten (*Content-Based Filtering*) dan satu berbasis kolaboratif (*Collaborative Filtering*) — untuk menghasilkan daftar rekomendasi film yang dipersonalisasi.\n",
        "- Meningkatkan kemampuan pengguna dalam menemukan film baru yang sesuai dengan selera mereka, sehingga memperkaya pengalaman menonton dan meningkatkan unsur *serendipity* (penemuan tak terduga yang menyenangkan).\n",
        "- Mengevaluasi dan membandingkan kinerja kedua pendekatan menggunakan **metrik evaluasi yang sesuai** pada dataset MovieLens.\n",
        "- Memberikan pemahaman praktis mengenai implementasi dan evaluasi sistem rekomendasi sebagai salah satu aplikasi penting di bidang *machine learning*.\n",
        "\n",
        "---\n",
        "\n",
        "# 🔧 Solution Approach (Pendekatan Solusi)\n",
        "\n",
        "Proyek ini akan mengimplementasikan dan mengevaluasi dua pendekatan utama:\n",
        "\n",
        "## 📌 Content-Based Filtering (Penyaringan Berbasis Konten)\n",
        "\n",
        "### Konsep Dasar:\n",
        "Merekomendasikan film berdasarkan kemiripan atribut film (genre, sutradara, aktor utama, kata kunci sinopsis) dengan film yang disukai oleh pengguna sebelumnya.\n",
        "\n",
        "### Mekanisme Umum:\n",
        "\n",
        "- **Representasi Fitur Item:**  \n",
        "  Setiap film direpresentasikan sebagai **vektor fitur** (misalnya, genre dalam bentuk vektor biner: `[Adventure, Comedy, Sci-Fi, Drama, ...]`).\n",
        "\n",
        "- **Pembuatan Profil Pengguna:**  \n",
        "  Sistem membentuk profil preferensi pengguna dari film yang diberi rating tinggi oleh pengguna tersebut.\n",
        "\n",
        "- **Penghitungan Kemiripan:**  \n",
        "  Gunakan metrik seperti **cosine similarity** untuk menghitung kemiripan antara film baru dan preferensi pengguna.\n",
        "\n",
        "- **Pemberian Rekomendasi:**  \n",
        "  Film dengan skor kemiripan tertinggi akan direkomendasikan kepada pengguna.\n",
        "\n",
        "---\n",
        "\n",
        "## 🤝 Collaborative Filtering (Penyaringan Kolaboratif)\n",
        "\n",
        "### Konsep Dasar:\n",
        "Menganalisis pola interaksi pengguna (rating) untuk menemukan kesamaan preferensi antar pengguna atau antar item.\n",
        "\n",
        "### Pendekatan yang Digunakan:\n",
        "\n",
        "#### 🔸 User-Based Collaborative Filtering (UCF):\n",
        "- Menemukan “tetangga” pengguna dengan preferensi serupa.\n",
        "- Merekomendasikan film yang disukai oleh tetangga tersebut dan belum ditonton oleh pengguna target.\n",
        "\n",
        "#### 🔸 Item-Based Collaborative Filtering (ICF):\n",
        "- Menghitung kemiripan antar item berdasarkan rating yang diberikan oleh pengguna yang sama.\n",
        "- Merekomendasikan film mirip dengan yang telah disukai oleh pengguna.\n",
        "\n",
        "#### 🔸 Matrix Factorization (Contoh: SVD):\n",
        "- Menguraikan matriks interaksi **user-item** menjadi faktor laten yang merepresentasikan karakteristik tersembunyi.\n",
        "- Memprediksi rating untuk pasangan user-item yang belum ada dan memberikan rekomendasi berdasarkan skor tertinggi.\n",
        "\n",
        "---\n",
        "\n",
        "> 💡 *Dengan membandingkan pendekatan Content-Based dan Collaborative Filtering, proyek ini bertujuan memberikan pemahaman menyeluruh terhadap kekuatan dan kelemahan masing-masing metode dalam konteks rekomendasi film.*"
      ],
      "metadata": {
        "id": "NTyqXVkAOqMp"
      }
    },
    {
      "cell_type": "markdown",
      "source": [
        "# **Tahap 3 : Data Understanding**"
      ],
      "metadata": {
        "id": "2OkPb74kPMQl"
      }
    },
    {
      "cell_type": "markdown",
      "source": [
        "# 📂 Sumber Data dan Pemuatan Data Awal\n",
        "\n",
        "## 🔗 Tautan Sumber Data:\n",
        "- Dataset: MovieLens Latest Datasets (Small)\n",
        "- Link Download: https://grouplens.org/datasets/movielens/latest/ (cari file ml-latest-small.zip).\n",
        "\n",
        "## 📁 Di dalam file zip tersebut, kita akan fokus pada beberapa file utama:\n",
        "- `movies.csv`: Berisi informasi film (movieId, title, genres).\n",
        "- `ratings.csv`: Berisi informasi rating yang diberikan pengguna ke film (userId, movieId, rating, timestamp).\n",
        "- `tags.csv`: (Opsional, bisa kita pertimbangkan nanti) Berisi tag yang diberikan pengguna ke film.\n",
        "- `links.csv`: (Kurang relevan untuk model kita) Berisi identifier untuk website lain seperti IMDB dan TMDB.\n",
        "\n",
        "## 📊 Pemuatan Data:\n",
        "Anda akan menggunakan library pandas di Python untuk memuat file .csv ini ke dalam DataFrame.\n",
        "Contoh kode di notebook Anda (setelah mengunggah dan mengekstrak file):\n"
      ],
      "metadata": {
        "id": "1EwegyR0PjEY"
      }
    },
    {
      "cell_type": "code",
      "source": [
        "import pandas as pd\n",
        "import requests\n",
        "import zipfile\n",
        "import io\n",
        "\n",
        "# URL ke dataset MovieLens Small\n",
        "zip_file_url = \"http://files.grouplens.org/datasets/movielens/ml-latest-small.zip\"\n",
        "\n",
        "print(f\"Mengunduh dataset dari {zip_file_url}...\")\n",
        "r = requests.get(zip_file_url)\n",
        "z = zipfile.ZipFile(io.BytesIO(r.content))\n",
        "print(\"Dataset berhasil diunduh dan dibuka.\")\n",
        "\n",
        "# Nama file CSV di dalam ZIP yang kita butuhkan\n",
        "movies_csv_path = 'ml-latest-small/movies.csv'\n",
        "ratings_csv_path = 'ml-latest-small/ratings.csv'\n",
        "# tags_csv_path = 'ml-latest-small/tags.csv' # Jika Anda memutuskan untuk menggunakan\n",
        "\n",
        "print(f\"Membaca {movies_csv_path}...\")\n",
        "movies_df = pd.read_csv(z.open(movies_csv_path))\n",
        "print(\"movies_df berhasil dimuat.\")\n",
        "\n",
        "print(f\"Membaca {ratings_csv_path}...\")\n",
        "ratings_df = pd.read_csv(z.open(ratings_csv_path))\n",
        "print(\"ratings_df berhasil dimuat.\")\n",
        "\n",
        "# Jika ingin memuat tags.csv juga:\n",
        "# print(f\"Membaca {tags_csv_path}...\")\n",
        "# tags_df = pd.read_csv(z.open(tags_csv_path))\n",
        "# print(\"tags_df berhasil dimuat.\")\n",
        "\n",
        "print(\"\\nBeberapa baris pertama dari movies_df:\")\n",
        "print(movies_df.head())\n",
        "\n",
        "print(\"\\nBeberapa baris pertama dari ratings_df:\")\n",
        "print(ratings_df.head())"
      ],
      "metadata": {
        "colab": {
          "base_uri": "https://localhost:8080/"
        },
        "id": "vk34P9xRP7HV",
        "outputId": "6e0332a8-7c6b-4956-9a4e-2a5582477884"
      },
      "execution_count": 1,
      "outputs": [
        {
          "output_type": "stream",
          "name": "stdout",
          "text": [
            "Mengunduh dataset dari http://files.grouplens.org/datasets/movielens/ml-latest-small.zip...\n",
            "Dataset berhasil diunduh dan dibuka.\n",
            "Membaca ml-latest-small/movies.csv...\n",
            "movies_df berhasil dimuat.\n",
            "Membaca ml-latest-small/ratings.csv...\n",
            "ratings_df berhasil dimuat.\n",
            "\n",
            "Beberapa baris pertama dari movies_df:\n",
            "   movieId                               title  \\\n",
            "0        1                    Toy Story (1995)   \n",
            "1        2                      Jumanji (1995)   \n",
            "2        3             Grumpier Old Men (1995)   \n",
            "3        4            Waiting to Exhale (1995)   \n",
            "4        5  Father of the Bride Part II (1995)   \n",
            "\n",
            "                                        genres  \n",
            "0  Adventure|Animation|Children|Comedy|Fantasy  \n",
            "1                   Adventure|Children|Fantasy  \n",
            "2                               Comedy|Romance  \n",
            "3                         Comedy|Drama|Romance  \n",
            "4                                       Comedy  \n",
            "\n",
            "Beberapa baris pertama dari ratings_df:\n",
            "   userId  movieId  rating  timestamp\n",
            "0       1        1     4.0  964982703\n",
            "1       1        3     4.0  964981247\n",
            "2       1        6     4.0  964982224\n",
            "3       1       47     5.0  964983815\n",
            "4       1       50     5.0  964982931\n"
          ]
        }
      ]
    },
    {
      "cell_type": "code",
      "source": [
        "print(\"Dimensi movies_df:\", movies_df.shape)"
      ],
      "metadata": {
        "colab": {
          "base_uri": "https://localhost:8080/"
        },
        "id": "IF-wxVtZRFkE",
        "outputId": "77e13e92-65a7-47ee-b1e7-f9b78d76188b"
      },
      "execution_count": 2,
      "outputs": [
        {
          "output_type": "stream",
          "name": "stdout",
          "text": [
            "Dimensi movies_df: (9742, 3)\n"
          ]
        }
      ]
    },
    {
      "cell_type": "markdown",
      "source": [
        "**Observasi `movies_df.shape`:**\n",
        "* DataFrame `movies_df` memiliki **9742 baris** dan **3 kolom**. Ini berarti dataset kita berisi informasi untuk 9742 film, dengan masing-masing film memiliki 3 atribut (fitur)."
      ],
      "metadata": {
        "id": "6UTz1ecTSfgs"
      }
    },
    {
      "cell_type": "code",
      "source": [
        "print(\"\\nInfo movies_df:\")\n",
        "movies_df.info()"
      ],
      "metadata": {
        "colab": {
          "base_uri": "https://localhost:8080/"
        },
        "id": "F_54lm0NRH_V",
        "outputId": "0a616bd7-ec38-4959-ac95-5bcc4d7cea59"
      },
      "execution_count": 3,
      "outputs": [
        {
          "output_type": "stream",
          "name": "stdout",
          "text": [
            "\n",
            "Info movies_df:\n",
            "<class 'pandas.core.frame.DataFrame'>\n",
            "RangeIndex: 9742 entries, 0 to 9741\n",
            "Data columns (total 3 columns):\n",
            " #   Column   Non-Null Count  Dtype \n",
            "---  ------   --------------  ----- \n",
            " 0   movieId  9742 non-null   int64 \n",
            " 1   title    9742 non-null   object\n",
            " 2   genres   9742 non-null   object\n",
            "dtypes: int64(1), object(2)\n",
            "memory usage: 228.5+ KB\n"
          ]
        }
      ]
    },
    {
      "cell_type": "markdown",
      "source": [
        "**Observasi `movies_df.info()`:**\n",
        "* DataFrame `movies_df` terdiri dari 9742 entri (baris), sesuai dengan output `.shape`.\n",
        "* Terdapat 3 kolom: `movieId`, `title`, dan `genres`.\n",
        "* Semua kolom memiliki **9742 entri non-null**, yang mengindikasikan **tidak ada nilai yang hilang (missing values)** pada dataset film ini.\n",
        "* Tipe data untuk `movieId` adalah `int64` (integer), sedangkan `title` dan `genres` adalah `object` (yang biasanya menandakan tipe data string di Pandas).\n",
        "* Perkiraan penggunaan memori untuk DataFrame ini adalah sekitar 228.5+ KB."
      ],
      "metadata": {
        "id": "zvDMOVHtR5sL"
      }
    },
    {
      "cell_type": "code",
      "source": [
        "print(\"\\nStatistik Deskriptif movies_df:\")\n",
        "print(movies_df.describe(include='all'))"
      ],
      "metadata": {
        "colab": {
          "base_uri": "https://localhost:8080/"
        },
        "id": "LF1ID_sRRKyt",
        "outputId": "8b690496-ca0d-4104-b8d2-3d1ba4d5ac15"
      },
      "execution_count": 4,
      "outputs": [
        {
          "output_type": "stream",
          "name": "stdout",
          "text": [
            "\n",
            "Statistik Deskriptif movies_df:\n",
            "              movieId        title genres\n",
            "count     9742.000000         9742   9742\n",
            "unique            NaN         9737    951\n",
            "top               NaN  Emma (1996)  Drama\n",
            "freq              NaN            2   1053\n",
            "mean     42200.353623          NaN    NaN\n",
            "std      52160.494854          NaN    NaN\n",
            "min          1.000000          NaN    NaN\n",
            "25%       3248.250000          NaN    NaN\n",
            "50%       7300.000000          NaN    NaN\n",
            "75%      76232.000000          NaN    NaN\n",
            "max     193609.000000          NaN    NaN\n"
          ]
        }
      ]
    },
    {
      "cell_type": "markdown",
      "source": [
        "**Observasi `movies_df.describe(include='all')`:**\n",
        "* **Untuk `movieId` (kolom numerik):**\n",
        "    * Terdapat 9742 nilai unik, yang sesuai dengan jumlah total film, mengonfirmasi `movieId` adalah identifier unik.\n",
        "    * Nilai `mean`, `std`, `min`, `25%` (kuartil pertama), `50%` (median), `75%` (kuartil ketiga), dan `max` memberikan gambaran distribusi ID film. `movieId` terkecil adalah 1 dan terbesar adalah 193609.\n",
        "* **Untuk `title` (kolom teks/objek):**\n",
        "    * Ada 9742 entri.\n",
        "    * Terdapat **9737 nilai unik** untuk `title`. Karena jumlah ini sedikit lebih kecil dari total film (9742), ini mengindikasikan ada beberapa judul film yang mungkin duplikat atau memiliki variasi penulisan tahun yang sama (misalnya, \"Emma (1996)\" muncul 2 kali seperti yang ditunjukkan oleh `top` dan `freq`).\n",
        "    * Judul film yang paling sering muncul (`top`) adalah \"Emma (1996)\", dengan frekuensi (`freq`) sebanyak 2 kali.\n",
        "* **Untuk `genres` (kolom teks/objek):**\n",
        "    * Ada 9742 entri.\n",
        "    * Terdapat **951 kombinasi genre yang unik**.\n",
        "    * Kombinasi genre yang paling sering muncul (`top`) adalah \"Drama\", dengan frekuensi (`freq`) sebanyak 1053 kali."
      ],
      "metadata": {
        "id": "961ICfBMSlDG"
      }
    },
    {
      "cell_type": "code",
      "source": [
        "print(\"\\nDimensi ratings_df:\", ratings_df.shape)"
      ],
      "metadata": {
        "colab": {
          "base_uri": "https://localhost:8080/"
        },
        "id": "AoydrrNvROtm",
        "outputId": "63021681-c4d9-4a1c-8598-75a28ed86917"
      },
      "execution_count": 5,
      "outputs": [
        {
          "output_type": "stream",
          "name": "stdout",
          "text": [
            "\n",
            "Dimensi ratings_df: (100836, 4)\n"
          ]
        }
      ]
    },
    {
      "cell_type": "markdown",
      "source": [
        "**Observasi `ratings_df.shape`:**\n",
        "* DataFrame `ratings_df` memiliki **100836 baris** dan **4 kolom**. Ini berarti ada 100.836 entri rating dalam dataset. Setiap entri rating memiliki 4 atribut."
      ],
      "metadata": {
        "id": "m9Og4M-nSnrJ"
      }
    },
    {
      "cell_type": "code",
      "source": [
        "print(\"\\nInfo ratings_df:\")\n",
        "ratings_df.info()"
      ],
      "metadata": {
        "colab": {
          "base_uri": "https://localhost:8080/"
        },
        "id": "vAl3lPVTRQLe",
        "outputId": "3eb62719-3e85-4bb4-a888-efc9adaf4ed2"
      },
      "execution_count": 6,
      "outputs": [
        {
          "output_type": "stream",
          "name": "stdout",
          "text": [
            "\n",
            "Info ratings_df:\n",
            "<class 'pandas.core.frame.DataFrame'>\n",
            "RangeIndex: 100836 entries, 0 to 100835\n",
            "Data columns (total 4 columns):\n",
            " #   Column     Non-Null Count   Dtype  \n",
            "---  ------     --------------   -----  \n",
            " 0   userId     100836 non-null  int64  \n",
            " 1   movieId    100836 non-null  int64  \n",
            " 2   rating     100836 non-null  float64\n",
            " 3   timestamp  100836 non-null  int64  \n",
            "dtypes: float64(1), int64(3)\n",
            "memory usage: 3.1 MB\n"
          ]
        }
      ]
    },
    {
      "cell_type": "markdown",
      "source": [
        "**Observasi `ratings_df.info()`:**\n",
        "* DataFrame `ratings_df` terdiri dari 100836 entri (baris), sesuai dengan output `.shape`.\n",
        "* Terdapat 4 kolom: `userId`, `movieId`, `rating`, dan `timestamp`.\n",
        "* Semua kolom memiliki **100836 entri non-null**, yang mengindikasikan **tidak ada nilai yang hilang (missing values)** pada dataset rating ini.\n",
        "* Tipe data untuk `userId`, `movieId`, dan `timestamp` adalah `int64` (integer).\n",
        "* Tipe data untuk `rating` adalah `float64` (angka desimal), yang sesuai karena rating dapat bernilai pecahan (misalnya 3.5).\n",
        "* Perkiraan penggunaan memori untuk DataFrame ini adalah sekitar 3.1 MB."
      ],
      "metadata": {
        "id": "FcntKKI-SrBp"
      }
    },
    {
      "cell_type": "code",
      "source": [
        "print(\"\\nStatistik Deskriptif ratings_df:\")\n",
        "print(ratings_df.describe())"
      ],
      "metadata": {
        "colab": {
          "base_uri": "https://localhost:8080/"
        },
        "id": "rb6PRQkYRRq2",
        "outputId": "a93a5f0c-ba5d-45d5-b19c-1806fdc6abe0"
      },
      "execution_count": 7,
      "outputs": [
        {
          "output_type": "stream",
          "name": "stdout",
          "text": [
            "\n",
            "Statistik Deskriptif ratings_df:\n",
            "              userId        movieId         rating     timestamp\n",
            "count  100836.000000  100836.000000  100836.000000  1.008360e+05\n",
            "mean      326.127564   19435.295718       3.501557  1.205946e+09\n",
            "std       182.618491   35530.987199       1.042529  2.162610e+08\n",
            "min         1.000000       1.000000       0.500000  8.281246e+08\n",
            "25%       177.000000    1199.000000       3.000000  1.019124e+09\n",
            "50%       325.000000    2991.000000       3.500000  1.186087e+09\n",
            "75%       477.000000    8122.000000       4.000000  1.435994e+09\n",
            "max       610.000000  193609.000000       5.000000  1.537799e+09\n"
          ]
        }
      ]
    },
    {
      "cell_type": "markdown",
      "source": [
        "**Observasi `ratings_df.describe()`:**\n",
        "* **`userId`:**\n",
        "    * Ada 100836 rating yang diberikan.\n",
        "    * Rata-rata `userId` adalah sekitar 326.\n",
        "    * `userId` minimum adalah 1 dan maksimum adalah 610, yang berarti ada **610 pengguna unik** yang memberikan rating dalam dataset ini.\n",
        "* **`movieId`:**\n",
        "    * Nilai `movieId` bervariasi, dengan film yang paling sering dirating memiliki ID yang lebih rendah (terlihat dari median `2991.0` dibandingkan `max` `193609.0`).\n",
        "* **`rating`:**\n",
        "    * Kolom ini adalah yang paling penting untuk dianalisis dari statistik deskriptif ini.\n",
        "    * Rata-rata (`mean`) rating yang diberikan adalah sekitar **3.50**.\n",
        "    * Standar deviasi (`std`) sekitar **1.04**, menunjukkan sebaran variasi rating.\n",
        "    * Rating minimum (`min`) adalah **0.5** dan rating maksimum (`max`) adalah **5.0**, sesuai dengan skala rating MovieLens.\n",
        "    * Kuartil pertama (`25%`) adalah 3.0, median (`50%`) adalah 3.5, dan kuartil ketiga (`75%`) adalah 4.0. Ini menunjukkan bahwa sebagian besar rating cenderung berada di sisi positif (3.0 ke atas).\n",
        "* **`timestamp`:**\n",
        "    * Menunjukkan kapan rating diberikan, dalam format Unix timestamp. Nilai `min` dan `max` menunjukkan rentang waktu pemberian rating dalam dataset."
      ],
      "metadata": {
        "id": "gb40RPzfSC8k"
      }
    },
    {
      "cell_type": "markdown",
      "source": [
        "# **Data Understanding**"
      ],
      "metadata": {
        "id": "HPVt_KeEYiqD"
      }
    },
    {
      "cell_type": "markdown",
      "source": [
        "# 📝 Deskripsi Variabel\n",
        "\n",
        "Berikut adalah penjelasan untuk setiap variabel (kolom) yang terdapat dalam dataset `movies_df` dan `ratings_df` yang digunakan dalam proyek ini:\n",
        "### Variabel pada `movies_df`:\n",
        "\n",
        "* `movieId`: Identifier unik untuk setiap film dalam dataset.\n",
        "    * *Tipe Data:* `int64` (Integer Numerik)\n",
        "    * *Contoh:* `1`, `2`, `3`\n",
        "    * *Keterangan:* Akan digunakan sebagai kunci utama (primary key) untuk menghubungkan data film dengan data rating.\n",
        "\n",
        "* `title`: Judul lengkap dari film, seringkali menyertakan tahun rilis dalam tanda kurung.\n",
        "    * *Tipe Data:* `object` (String)\n",
        "    * *Contoh:* `Toy Story (1995)`, `Jumanji (1995)`\n",
        "    * *Keterangan:* Memberikan informasi nama film yang mudah dibaca manusia. Tahun rilis bisa diekstrak jika diperlukan analisis temporal lebih lanjut.\n",
        "\n",
        "* `genres`: Satu atau lebih genre yang diasosiasikan dengan film, dipisahkan oleh karakter pipa (`|`).\n",
        "    * *Tipe Data:* `object` (String)\n",
        "    * *Contoh:* `Adventure|Animation|Children|Comedy|Fantasy`, `Comedy|Romance`\n",
        "    * *Keterangan:* Fitur ini sangat krusial untuk pendekatan Content-Based Filtering, karena merepresentasikan karakteristik konten film.\n",
        "\n",
        "### Variabel pada `ratings_df`:\n",
        "\n",
        "* `userId`: Identifier unik untuk setiap pengguna yang memberikan rating.\n",
        "    * *Tipe Data:* `int64` (Integer Numerik)\n",
        "    * *Contoh:* `1`, `2`, `3`\n",
        "    * *Keterangan:* Merepresentasikan entitas pengguna dalam dataset.\n",
        "\n",
        "* `movieId`: Identifier film yang diberi rating oleh pengguna.\n",
        "    * *Tipe Data:* `int64` (Integer Numerik)\n",
        "    * *Contoh:* `1`, `3`, `6`\n",
        "    * *Keterangan:* Merupakan foreign key yang menghubungkan ke `movieId` di `movies_df`.\n",
        "\n",
        "* `rating`: Rating numerik yang diberikan oleh pengguna untuk film tertentu.\n",
        "    * *Tipe Data:* `float64` (Float Numerik)\n",
        "    * *Contoh:* `4.0`, `5.0`, `3.5`\n",
        "    * *Keterangan:* Skala rating pada dataset ini adalah dari 0.5 hingga 5.0 dengan interval 0.5. Ini adalah variabel target utama untuk prediksi dalam Collaborative Filtering dan untuk memahami preferensi pengguna.\n",
        "\n",
        "* `timestamp`: Waktu ketika rating diberikan oleh pengguna, dalam format Unix timestamp (jumlah detik sejak 1 Januari 1970 UTC).\n",
        "    * *Tipe Data:* `int64` (Integer Numerik)\n",
        "    * *Contoh:* `964982703`\n",
        "    * *Keterangan:* Meskipun tidak akan menjadi fokus utama dalam model rekomendasi awal kita, data timestamp bisa digunakan untuk analisis tren, model yang sensitif terhadap waktu, atau untuk membagi data berdasarkan waktu."
      ],
      "metadata": {
        "id": "tW0PnpUWYkNh"
      }
    },
    {
      "cell_type": "markdown",
      "source": [
        "## **1. Visualisasi Distribusi Rating**"
      ],
      "metadata": {
        "id": "FgzalkxPZpiR"
      }
    },
    {
      "cell_type": "code",
      "source": [
        "import matplotlib.pyplot as plt\n",
        "import seaborn as sns\n",
        "\n",
        "# Mengatur gaya visualisasi seaborn untuk tampilan yang lebih menarik\n",
        "sns.set_style('whitegrid')\n",
        "\n",
        "plt.figure(figsize=(10, 6)) # Mengatur ukuran figure agar lebih nyaman dilihat\n",
        "# Penyesuaian berdasarkan FutureWarning:\n",
        "sns.countplot(x='rating', data=ratings_df, hue='rating', palette='viridis', legend=False)\n",
        "plt.title('Distribusi Rating Film', fontsize=15, pad=10)\n",
        "plt.xlabel('Rating', fontsize=12)\n",
        "plt.ylabel('Jumlah Rating (Count)', fontsize=12) # Mengganti 'Jumlah Pengguna' menjadi 'Jumlah Rating' agar lebih presisi\n",
        "plt.show()"
      ],
      "metadata": {
        "colab": {
          "base_uri": "https://localhost:8080/",
          "height": 576
        },
        "id": "8Lm7hfPmY8Hd",
        "outputId": "11376ced-6a26-497c-8d50-a11f17a419e8"
      },
      "execution_count": 8,
      "outputs": [
        {
          "output_type": "display_data",
          "data": {
            "text/plain": [
              "<Figure size 1000x600 with 1 Axes>"
            ],
            "image/png": "[encoded data removed]"
          },
          "metadata": {}
        }
      ]
    },
    {
      "cell_type": "markdown",
      "source": [
        "### Observasi Distribusi Rating:\n",
        "\n",
        "Setelah memvisualisasikan distribusi rating film, beberapa poin penting dapat diamati:\n",
        "\n",
        "* Rating yang **paling sering diberikan** oleh pengguna adalah **4.0**, diikuti oleh rating **3.0**.\n",
        "* Rating **paling jarang diberikan** adalah **0.5**.\n",
        "* Secara umum, pengguna dalam dataset ini cenderung memberikan rating pada rentang **positif/tinggi**, yaitu antara **3.0** dan **5.0**. Rating 2.0 juga cukup sering muncul, namun frekuensinya lebih rendah dibandingkan rating 3.0 ke atas.\n",
        "* Distribusi rating terlihat **miring ke kiri (left-skewed)**, yang berarti mayoritas rating terkonsentrasi pada nilai yang lebih tinggi.\n",
        "* Terdapat **10 kategori rating yang berbeda** (0.5, 1.0, 1.5, 2.0, 2.5, 3.0, 3.5, 4.0, 4.5, 5.0).\n",
        "\n",
        "Insight ini menunjukkan bahwa mayoritas interaksi pengguna dengan film menghasilkan penilaian yang cenderung baik, yang bisa menjadi pertimbangan dalam proses evaluasi model rekomendasi nantinya. Pengguna lebih sering memberikan rating 3.0 ke atas dibandingkan rating di bawahnya."
      ],
      "metadata": {
        "id": "mpM7HUz9ZP2w"
      }
    },
    {
      "cell_type": "markdown",
      "source": [
        "## **2. Jumlah Film Unik dan Pengguna Unik**"
      ],
      "metadata": {
        "id": "pt9AmFETZquJ"
      }
    },
    {
      "cell_type": "code",
      "source": [
        "# Menghitung jumlah film unik\n",
        "jumlah_film_unik = movies_df['movieId'].nunique()\n",
        "print(f\"Jumlah film unik dalam dataset: {jumlah_film_unik}\")\n",
        "\n",
        "# Menghitung jumlah pengguna unik\n",
        "jumlah_pengguna_unik = ratings_df['userId'].nunique()\n",
        "print(f\"Jumlah pengguna unik dalam dataset: {jumlah_pengguna_unik}\")"
      ],
      "metadata": {
        "colab": {
          "base_uri": "https://localhost:8080/"
        },
        "id": "qQrw-SjDZua6",
        "outputId": "f17c8775-6505-4c38-e2ed-c1e8bcd116ab"
      },
      "execution_count": 9,
      "outputs": [
        {
          "output_type": "stream",
          "name": "stdout",
          "text": [
            "Jumlah film unik dalam dataset: 9742\n",
            "Jumlah pengguna unik dalam dataset: 610\n"
          ]
        }
      ]
    },
    {
      "cell_type": "markdown",
      "source": [
        "### Observasi Jumlah Film dan Pengguna Unik:\n",
        "\n",
        "Berdasarkan perhitungan dari dataset:\n",
        "\n",
        "* Terdapat **9742** film unik yang tersedia untuk diberi rating.\n",
        "* Terdapat **610** pengguna unik yang telah memberikan setidaknya satu rating.\n",
        "\n",
        "Informasi ini memberikan gambaran dasar mengenai skala dataset MovieLens Small yang kita gunakan. Jumlah ini akan menjadi dasar untuk memahami densitas matriks interaksi pengguna-film nanti, yaitu seberapa banyak rating yang ada dibandingkan dengan jumlah total kemungkinan rating (9742 film * 610 pengguna)."
      ],
      "metadata": {
        "id": "p-uh1xeOZ5OU"
      }
    },
    {
      "cell_type": "markdown",
      "source": [
        "## **3. Popularitas Film (Berdasarkan Jumlah Rating)**"
      ],
      "metadata": {
        "id": "So0mdXTlaEU0"
      }
    },
    {
      "cell_type": "code",
      "source": [
        "import matplotlib.pyplot as plt\n",
        "import seaborn as sns\n",
        "\n",
        "# Mengatur gaya visualisasi seaborn\n",
        "sns.set_style('whitegrid')\n",
        "\n",
        "# Menghitung jumlah rating untuk setiap film\n",
        "jumlah_rating_film = ratings_df['movieId'].value_counts()\n",
        "\n",
        "# Mengubah series menjadi DataFrame dan mereset index\n",
        "jumlah_rating_film_df = jumlah_rating_film.to_frame().reset_index()\n",
        "jumlah_rating_film_df.columns = ['movieId', 'jumlah_rating']\n",
        "\n",
        "# Menggabungkan dengan movies_df untuk mendapatkan judul film\n",
        "film_populer_df = pd.merge(jumlah_rating_film_df, movies_df, on='movieId', how='left')\n",
        "\n",
        "# Menampilkan 10 film paling populer (paling banyak dirating)\n",
        "print(\"Top 10 Film Paling Populer (Berdasarkan Jumlah Rating):\\n\")\n",
        "print(film_populer_df[['title', 'jumlah_rating', 'genres']].head(10))\n",
        "print(\"\\n\" + \"=\"*50 + \"\\n\") # Pemisah\n",
        "\n",
        "# Visualisasi distribusi jumlah rating per film\n",
        "plt.figure(figsize=(12, 6))\n",
        "sns.histplot(film_populer_df['jumlah_rating'], bins=50, kde=False, color='royalblue')\n",
        "plt.title('Distribusi Jumlah Rating per Film', fontsize=15, pad=10)\n",
        "plt.xlabel('Jumlah Rating yang Diterima Film', fontsize=12)\n",
        "plt.ylabel('Jumlah Film', fontsize=12)\n",
        "plt.yscale('log') # Menggunakan skala logaritmik untuk sumbu Y agar lebih terlihat distribusinya\n",
        "plt.show()\n",
        "\n",
        "# Visualisasi Top N Film Paling Populer\n",
        "top_n = 20\n",
        "plt.figure(figsize=(12, 8))\n",
        "sns.barplot(x='jumlah_rating', y='title', data=film_populer_df.head(top_n), hue='title', palette='mako', dodge=False, legend=False)\n",
        "plt.title(f'Top {top_n} Film dengan Rating Terbanyak', fontsize=15, pad=10)\n",
        "plt.xlabel('Jumlah Rating', fontsize=12)\n",
        "plt.ylabel('Judul Film', fontsize=12)\n",
        "plt.tight_layout() # Menyesuaikan layout agar label tidak terpotong\n",
        "plt.show()"
      ],
      "metadata": {
        "colab": {
          "base_uri": "https://localhost:8080/",
          "height": 1000
        },
        "id": "e_mhueQpaJ0G",
        "outputId": "7b08ec95-f76d-4836-9487-025bcb230221"
      },
      "execution_count": 10,
      "outputs": [
        {
          "output_type": "stream",
          "name": "stdout",
          "text": [
            "Top 10 Film Paling Populer (Berdasarkan Jumlah Rating):\n",
            "\n",
            "                                       title  jumlah_rating  \\\n",
            "0                        Forrest Gump (1994)            329   \n",
            "1           Shawshank Redemption, The (1994)            317   \n",
            "2                        Pulp Fiction (1994)            307   \n",
            "3           Silence of the Lambs, The (1991)            279   \n",
            "4                         Matrix, The (1999)            278   \n",
            "5  Star Wars: Episode IV - A New Hope (1977)            251   \n",
            "6                       Jurassic Park (1993)            238   \n",
            "7                          Braveheart (1995)            237   \n",
            "8          Terminator 2: Judgment Day (1991)            224   \n",
            "9                    Schindler's List (1993)            220   \n",
            "\n",
            "                             genres  \n",
            "0          Comedy|Drama|Romance|War  \n",
            "1                       Crime|Drama  \n",
            "2       Comedy|Crime|Drama|Thriller  \n",
            "3             Crime|Horror|Thriller  \n",
            "4            Action|Sci-Fi|Thriller  \n",
            "5           Action|Adventure|Sci-Fi  \n",
            "6  Action|Adventure|Sci-Fi|Thriller  \n",
            "7                  Action|Drama|War  \n",
            "8                     Action|Sci-Fi  \n",
            "9                         Drama|War  \n",
            "\n",
            "==================================================\n",
            "\n"
          ]
        },
        {
          "output_type": "display_data",
          "data": {
            "text/plain": [
              "<Figure size 1200x600 with 1 Axes>"
            ],
            "image/png": "[encoded data removed]"
          },
          "metadata": {}
        },
        {
          "output_type": "display_data",
          "data": {
            "text/plain": [
              "<Figure size 1200x800 with 1 Axes>"
            ],
            "image/png": "[encoded data removed]"
          },
          "metadata": {}
        }
      ]
    },
    {
      "cell_type": "markdown",
      "source": [
        "### Observasi Popularitas Film:\n",
        "\n",
        "Berdasarkan analisis jumlah rating yang diterima setiap film:\n",
        "\n",
        "* **Film Paling Populer:**\n",
        "    * Film yang mendapatkan jumlah rating terbanyak adalah **\"Forrest Gump (1994)\"** dengan **329** rating.\n",
        "    * Beberapa film lain yang juga sangat populer (masuk 10 besar) antara lain: **\"Shawshank Redemption, The (1994)\" (317 rating), \"Pulp Fiction (1994)\" (307 rating), dan \"Silence of the Lambs, The (1991)\" (279 rating)**.\n",
        "    * Genre dari film-film populer ini cenderung beragam, mencakup **Drama, Comedy, Crime, Thriller, Action, dan Sci-Fi**. Film-film ini umumnya adalah film-film yang sangat dikenal dan mendapat pujian kritis atau kesuksesan komersial besar pada masanya.\n",
        "\n",
        "* **Distribusi Jumlah Rating per Film (Histogram):**\n",
        "    * Plot histogram menunjukkan bahwa sebagian besar film dalam dataset ini hanya menerima **sejumlah kecil rating**. Dari grafik, terlihat banyak film yang memiliki kurang dari 50 rating, bahkan mayoritas signifikan memiliki di bawah 25 rating.\n",
        "    * Terdapat **sedikit film yang sangat populer** dan menerima jumlah rating yang sangat tinggi (di atas 200 rating, bahkan ada yang di atas 300), sementara mayoritas film lainnya memiliki jumlah rating yang jauh lebih rendah. Fenomena ini sangat jelas menggambarkan distribusi **\"long tail\"**.\n",
        "    * Penggunaan skala logaritmik pada sumbu Y sangat membantu memperjelas bahwa ada banyak sekali film dengan jumlah rating rendah yang mungkin tidak akan terlihat jelas jika menggunakan skala linear.\n",
        "\n",
        "* **Top N Film (Bar Plot):**\n",
        "    * *(Jika Anda menjalankan kode untuk bar plot Top 20, observasinya akan ditambahkan di sini. Bar plot tersebut akan secara visual mempertegas daftar film-film yang paling sering mendapatkan interaksi/rating dari pengguna, biasanya didominasi oleh film-film blockbuster atau yang dikenal luas).*\n",
        "\n",
        "Insight ini penting karena menunjukkan bahwa data rating kita tidak merata. Model rekomendasi mungkin akan lebih mudah memberikan rekomendasi untuk film populer karena banyaknya data interaksi. Tantangan utamanya adalah bagaimana memberikan rekomendasi yang relevan dan berkualitas untuk film-film yang kurang populer (yang berada di bagian \"long tail\" dari distribusi), karena data interaksi untuk film-film tersebut lebih sedikit."
      ],
      "metadata": {
        "id": "rIV5Y80vaZcX"
      }
    },
    {
      "cell_type": "markdown",
      "source": [
        "## **4. Aktivitas Pengguna (Berdasarkan Jumlah Film yang Dirating)**"
      ],
      "metadata": {
        "id": "D_FkhzW8amyF"
      }
    },
    {
      "cell_type": "code",
      "source": [
        "import matplotlib.pyplot as plt\n",
        "import seaborn as sns\n",
        "\n",
        "# Mengatur gaya visualisasi seaborn\n",
        "sns.set_style('whitegrid')\n",
        "\n",
        "# Menghitung jumlah rating yang diberikan oleh setiap pengguna\n",
        "jumlah_rating_pengguna = ratings_df['userId'].value_counts()\n",
        "\n",
        "# Menampilkan statistik deskriptif untuk jumlah rating per pengguna\n",
        "print(\"Statistik Deskriptif Jumlah Rating per Pengguna:\\n\")\n",
        "print(jumlah_rating_pengguna.describe())\n",
        "print(\"\\n\" + \"=\"*50 + \"\\n\") # Pemisah\n",
        "\n",
        "# Visualisasi distribusi jumlah rating per pengguna\n",
        "plt.figure(figsize=(12, 6))\n",
        "sns.histplot(jumlah_rating_pengguna, bins=50, kde=False, color='seagreen')\n",
        "plt.title('Distribusi Jumlah Rating per Pengguna', fontsize=15, pad=10)\n",
        "plt.xlabel('Jumlah Film yang Dirating oleh Pengguna', fontsize=12)\n",
        "plt.ylabel('Jumlah Pengguna', fontsize=12)\n",
        "# Pertimbangkan untuk menggunakan skala log jika distribusinya sangat skewed\n",
        "# plt.yscale('log')\n",
        "plt.show()\n",
        "\n",
        "# Menampilkan pengguna dengan jumlah rating terbanyak (contoh top 5)\n",
        "print(\"\\nTop 5 Pengguna Paling Aktif (Berdasarkan Jumlah Rating):\\n\")\n",
        "print(jumlah_rating_pengguna.head(5))\n",
        "\n",
        "# Menampilkan pengguna dengan jumlah rating paling sedikit (contoh bottom 5, jika perlu)\n",
        "# print(\"\\nContoh 5 Pengguna Paling Tidak Aktif (Berdasarkan Jumlah Rating):\\n\")\n",
        "# print(jumlah_rating_pengguna.tail(5))"
      ],
      "metadata": {
        "colab": {
          "base_uri": "https://localhost:8080/",
          "height": 1000
        },
        "id": "pyTNGAi5ao3K",
        "outputId": "20cb3624-1c29-4fd3-8116-59e510d1d054"
      },
      "execution_count": 11,
      "outputs": [
        {
          "output_type": "stream",
          "name": "stdout",
          "text": [
            "Statistik Deskriptif Jumlah Rating per Pengguna:\n",
            "\n",
            "count     610.000000\n",
            "mean      165.304918\n",
            "std       269.480584\n",
            "min        20.000000\n",
            "25%        35.000000\n",
            "50%        70.500000\n",
            "75%       168.000000\n",
            "max      2698.000000\n",
            "Name: count, dtype: float64\n",
            "\n",
            "==================================================\n",
            "\n"
          ]
        },
        {
          "output_type": "display_data",
          "data": {
            "text/plain": [
              "<Figure size 1200x600 with 1 Axes>"
            ],
            "image/png": "[encoded data removed]"
          },
          "metadata": {}
        },
        {
          "output_type": "stream",
          "name": "stdout",
          "text": [
            "\n",
            "Top 5 Pengguna Paling Aktif (Berdasarkan Jumlah Rating):\n",
            "\n",
            "userId\n",
            "414    2698\n",
            "599    2478\n",
            "474    2108\n",
            "448    1864\n",
            "274    1346\n",
            "Name: count, dtype: int64\n"
          ]
        }
      ]
    },
    {
      "cell_type": "markdown",
      "source": [
        "### Observasi Aktivitas Pengguna:\n",
        "\n",
        "Berdasarkan analisis jumlah rating yang diberikan oleh setiap pengguna:\n",
        "\n",
        "* **Statistik Umum Aktivitas Pengguna:**\n",
        "    * Rata-rata, setiap pengguna telah memberikan **sekitar 165.3** rating.\n",
        "    * Jumlah rating minimum yang diberikan oleh seorang pengguna adalah **20**. Ini berarti semua pengguna dalam dataset ini telah memberikan setidaknya 20 rating.\n",
        "    * Pengguna paling aktif telah memberikan **2698** rating.\n",
        "    * Setengah dari pengguna (median, nilai 50%) dalam dataset ini telah memberikan sekitar **70.5** rating atau kurang.\n",
        "\n",
        "* **Distribusi Aktivitas Pengguna (Histogram):**\n",
        "    * Plot histogram menunjukkan bahwa distribusi aktivitas pengguna sangat **miring ke kanan (right-skewed)**. Ini berarti mayoritas pengguna memberikan jumlah rating yang relatif sedikit (terlihat dari bar yang tinggi di sisi kiri plot, misalnya banyak pengguna dengan kurang dari 100 rating).\n",
        "    * Di sisi lain, terdapat sejumlah kecil pengguna yang sangat aktif ('power users') yang memberikan jumlah rating yang sangat banyak (membentuk ekor panjang ke kanan pada distribusi).\n",
        "    * *(Jika Anda mencoba plt.yscale('log') dan itu membantu, Anda bisa menambahkan komentar di sini tentang bagaimana skala log memperjelas bagian ekor dari distribusi).*\n",
        "\n",
        "* **Pengguna Paling Aktif:**\n",
        "    * Pengguna dengan `userId` **414** adalah yang paling aktif, telah memberikan **2698** rating.\n",
        "    * Daftar pengguna paling aktif (seperti userId 599 dengan 2478 rating, dan userId 474 dengan 2108 rating) menunjukkan adanya variasi besar dalam tingkat partisipasi pengguna.\n",
        "\n",
        "Insight ini mengindikasikan bahwa kontribusi data dari pengguna tidak seragam. Beberapa pengguna memberikan banyak informasi preferensi, sementara mayoritas lainnya memberikan lebih sedikit. Ini bisa mempengaruhi bagaimana model Collaborative Filtering belajar pola; preferensi pengguna yang sangat aktif mungkin lebih mudah dipelajari. Sebaliknya, meskipun pengguna dengan rating paling sedikit masih memiliki 20 rating (yang cukup baik dan bukan \"cold start\" ekstrem), variasi aktivitas ini tetap menjadi pertimbangan."
      ],
      "metadata": {
        "id": "C7ecVyNRa1iM"
      }
    },
    {
      "cell_type": "markdown",
      "source": [
        "## **5. Analisis Genre Film**"
      ],
      "metadata": {
        "id": "MBKUcyvMa68M"
      }
    },
    {
      "cell_type": "code",
      "source": [
        "import matplotlib.pyplot as plt\n",
        "import seaborn as sns\n",
        "from collections import Counter\n",
        "\n",
        "# Mengatur gaya visualisasi seaborn\n",
        "sns.set_style('whitegrid')\n",
        "\n",
        "# Memecah string genre menjadi daftar genre individual dan menghitung frekuensinya\n",
        "# Kita akan membuat list yang berisi semua genre dari setiap film\n",
        "semua_genre_list = []\n",
        "for index, row in movies_df.iterrows():\n",
        "    genres_film_ini = row['genres'].split('|')\n",
        "    semua_genre_list.extend(genres_film_ini)\n",
        "\n",
        "# Menggunakan collections.Counter untuk menghitung frekuensi setiap genre\n",
        "hitung_genre = Counter(semua_genre_list)\n",
        "\n",
        "# Mengubah hasil Counter menjadi DataFrame untuk kemudahan visualisasi\n",
        "genre_df = pd.DataFrame.from_dict(hitung_genre, orient='index', columns=['jumlah_film']).reset_index()\n",
        "genre_df = genre_df.rename(columns={'index': 'genre'})\n",
        "genre_df = genre_df.sort_values(by='jumlah_film', ascending=False)\n",
        "\n",
        "# Menampilkan beberapa genre teratas\n",
        "print(\"Frekuensi Setiap Genre Film (Top 10):\\n\")\n",
        "print(genre_df.head(10))\n",
        "print(\"\\n\" + \"=\"*50 + \"\\n\") # Pemisah\n",
        "\n",
        "# Visualisasi distribusi genre\n",
        "plt.figure(figsize=(14, 8)) # Ukuran figure disesuaikan agar label genre terbaca\n",
        "sns.barplot(x='jumlah_film', y='genre', data=genre_df, hue='genre', palette='viridis', dodge=False, legend=False)\n",
        "plt.title('Distribusi Genre Film dalam Dataset', fontsize=15, pad=10)\n",
        "plt.xlabel('Jumlah Film', fontsize=12)\n",
        "plt.ylabel('Genre', fontsize=12)\n",
        "plt.tight_layout() # Menyesuaikan layout agar label tidak terpotong\n",
        "plt.show()\n",
        "\n",
        "# Menampilkan genre yang '(no genres listed)' jika ada\n",
        "if '(no genres listed)' in hitung_genre:\n",
        "    print(f\"\\nPerhatian: Terdapat {hitung_genre['(no genres listed)']} film dengan '(no genres listed)'.\")\n",
        "    # Anda mungkin ingin melihat film-film ini:\n",
        "    # print(movies_df[movies_df['genres'] == '(no genres listed)'])\n",
        "else:\n",
        "    print(\"\\nTidak ada film dengan '(no genres listed)' dalam dataset.\")"
      ],
      "metadata": {
        "colab": {
          "base_uri": "https://localhost:8080/",
          "height": 1000
        },
        "id": "rqLTnZf2a8uu",
        "outputId": "39326517-196a-485a-d18c-fb3bb926d16c"
      },
      "execution_count": 12,
      "outputs": [
        {
          "output_type": "stream",
          "name": "stdout",
          "text": [
            "Frekuensi Setiap Genre Film (Top 10):\n",
            "\n",
            "        genre  jumlah_film\n",
            "6       Drama         4361\n",
            "3      Comedy         3756\n",
            "9    Thriller         1894\n",
            "7      Action         1828\n",
            "5     Romance         1596\n",
            "0   Adventure         1263\n",
            "8       Crime         1199\n",
            "12     Sci-Fi          980\n",
            "10     Horror          978\n",
            "4     Fantasy          779\n",
            "\n",
            "==================================================\n",
            "\n"
          ]
        },
        {
          "output_type": "display_data",
          "data": {
            "text/plain": [
              "<Figure size 1400x800 with 1 Axes>"
            ],
            "image/png": "[encoded data removed]"
          },
          "metadata": {}
        },
        {
          "output_type": "stream",
          "name": "stdout",
          "text": [
            "\n",
            "Perhatian: Terdapat 34 film dengan '(no genres listed)'.\n"
          ]
        }
      ]
    },
    {
      "cell_type": "markdown",
      "source": [
        "### Observasi Distribusi Genre Film:\n",
        "\n",
        "Analisis frekuensi kemunculan setiap genre dalam dataset film menghasilkan temuan berikut:\n",
        "\n",
        "* **Genre Paling Umum:**\n",
        "    * Genre yang paling banyak muncul dalam dataset adalah **\"Drama\"** dengan total **4361** film.\n",
        "    * Beberapa genre lain yang juga sangat umum (masuk 5 besar) adalah **\"Comedy\" (3756 film), \"Thriller\" (1894 film), \"Action\" (1828 film), dan \"Romance\" (1596 film)**.\n",
        "\n",
        "* **Distribusi Genre (Bar Plot):**\n",
        "    * Visualisasi bar plot menunjukkan variasi yang signifikan dalam jumlah film per genre.\n",
        "    * Genre seperti **\"Drama\"** dan **\"Comedy\"** sangat mendominasi dataset.\n",
        "    * Sebaliknya, genre seperti **\"Film-Noir\", \"IMAX\", dan \"Western\"** (terlihat di bagian bawah plot) memiliki representasi yang jauh lebih sedikit.\n",
        "\n",
        "* **Film Tanpa Genre:**\n",
        "    * Terdapat **34** film yang terdaftar tanpa informasi genre (`(no genres listed)`).\n",
        "    * Keberadaan film tanpa genre ini perlu diperhatikan karena dapat mempengaruhi kinerja model Content-Based Filtering jika tidak ditangani dengan baik (misalnya, dengan menghapusnya, mengabaikannya, atau mencoba memberikan genre default jika memungkinkan).\n",
        "\n",
        "Pemahaman distribusi genre ini krusial untuk pengembangan sistem rekomendasi berbasis konten, karena model akan belajar preferensi pengguna terhadap genre-genre ini. Genre yang sangat dominan mungkin lebih sering muncul dalam rekomendasi secara alami, sementara perhatian khusus mungkin diperlukan untuk memastikan film dari genre yang kurang umum juga memiliki kesempatan untuk direkomendasikan jika relevan dengan preferensi pengguna."
      ],
      "metadata": {
        "id": "wn02-Z42bLZY"
      }
    },
    {
      "cell_type": "markdown",
      "source": [
        "## **6. Pemeriksaan Missing Values**"
      ],
      "metadata": {
        "id": "kUle2QezbXBX"
      }
    },
    {
      "cell_type": "code",
      "source": [
        "# Pemeriksaan missing values pada movies_df\n",
        "print(\"Missing values di movies_df:\\n\")\n",
        "print(movies_df.isnull().sum())\n",
        "print(\"\\n\" + \"=\"*50 + \"\\n\")\n",
        "\n",
        "# Pemeriksaan missing values pada ratings_df\n",
        "print(\"Missing values di ratings_df:\\n\")\n",
        "print(ratings_df.isnull().sum())\n",
        "print(\"\\n\" + \"=\"*50 + \"\\n\")\n",
        "\n",
        "# Jika Anda juga memuat tags_df, periksa juga:\n",
        "# print(\"Missing values di tags_df:\\n\")\n",
        "# print(tags_df.isnull().sum())\n",
        "# print(\"\\n\" + \"=\"*50 + \"\\n\")"
      ],
      "metadata": {
        "colab": {
          "base_uri": "https://localhost:8080/"
        },
        "id": "aVjBDBlhbYoj",
        "outputId": "5940b106-4247-40e8-c1cf-9d64700ea243"
      },
      "execution_count": 13,
      "outputs": [
        {
          "output_type": "stream",
          "name": "stdout",
          "text": [
            "Missing values di movies_df:\n",
            "\n",
            "movieId    0\n",
            "title      0\n",
            "genres     0\n",
            "dtype: int64\n",
            "\n",
            "==================================================\n",
            "\n",
            "Missing values di ratings_df:\n",
            "\n",
            "userId       0\n",
            "movieId      0\n",
            "rating       0\n",
            "timestamp    0\n",
            "dtype: int64\n",
            "\n",
            "==================================================\n",
            "\n"
          ]
        }
      ]
    },
    {
      "cell_type": "markdown",
      "source": [
        "### Observasi Missing Values:\n",
        "\n",
        "Berdasarkan pemeriksaan formal menggunakan `.isnull().sum()`:\n",
        "\n",
        "* **Pada `movies_df`:**\n",
        "    * Kolom `movieId`: Terdapat **0** missing values.\n",
        "    * Kolom `title`: Terdapat **0** missing values.\n",
        "    * Kolom `genres`: Terdapat **0** missing values.\n",
        "\n",
        "* **Pada `ratings_df`:**\n",
        "    * Kolom `userId`: Terdapat **0** missing values.\n",
        "    * Kolom `movieId`: Terdapat **0** missing values.\n",
        "    * Kolom `rating`: Terdapat **0** missing values.\n",
        "    * Kolom `timestamp`: Terdapat **0** missing values.\n",
        "\n",
        "Secara keseluruhan, dataset `movies_df` dan `ratings_df` yang digunakan untuk analisis ini **tidak memiliki missing values** pada kolom-kolom utamanya. Ini menunjukkan bahwa data cukup bersih dan siap untuk tahap Data Preparation tanpa perlu melakukan imputasi nilai yang hilang untuk kolom-kolom ini. Pengecualian adalah kolom `genres` pada `movies_df` yang memiliki beberapa entri `(no genres listed)` (sebanyak 34 film, seperti yang diidentifikasi sebelumnya), yang akan dipertimbangkan penanganannya pada tahap Data Preparation."
      ],
      "metadata": {
        "id": "OmMBg8zmb28M"
      }
    },
    {
      "cell_type": "markdown",
      "source": [
        "## **7. Penggabungan Data (Data Merging)**"
      ],
      "metadata": {
        "id": "EmuaPfR4bfAj"
      }
    },
    {
      "cell_type": "code",
      "source": [
        "# Menggabungkan ratings_df dengan movies_df untuk mendapatkan judul dan genre film di samping rating\n",
        "# Ini berguna untuk analisis dan juga bisa menjadi dasar untuk beberapa jenis model\n",
        "merged_df = pd.merge(ratings_df, movies_df, on='movieId', how='left')\n",
        "\n",
        "# Menampilkan beberapa baris pertama dari data yang digabungkan\n",
        "# print(\"\\nContoh Data Gabungan (merged_df):\\n\")\n",
        "# print(merged_df.head())"
      ],
      "metadata": {
        "id": "xanu7qDnbl7D"
      },
      "execution_count": 14,
      "outputs": []
    },
    {
      "cell_type": "markdown",
      "source": [
        "### Catatan Mengenai Penggabungan Data:\n",
        "\n",
        "Penggabungan (`merging`) beberapa DataFrame adalah langkah umum dan penting dalam analisis data dan persiapan data untuk machine learning. Dalam konteks dataset MovieLens ini:\n",
        "\n",
        "* Menggabungkan `ratings_df` dengan `movies_df` (berdasarkan `movieId`) memungkinkan kita untuk secara langsung menganalisis rating pengguna bersamaan dengan informasi detail film seperti judul dan genre. DataFrame `merged_df` yang telah dibuat adalah contoh hasil dari operasi ini.\n",
        "* DataFrame hasil gabungan ini bisa berguna untuk:\n",
        "    * **Eksplorasi Data Lebih Lanjut:** Misalnya, melihat genre apa yang paling sering dirating tinggi oleh pengguna tertentu atau menganalisis rata-rata rating per genre.\n",
        "    * **Feature Engineering:** Membuat fitur baru berdasarkan kombinasi data pengguna dan data film.\n",
        "    * **Input untuk Model:** Beberapa implementasi model rekomendasi mungkin memerlukan tabel gabungan sebagai input.\n",
        "\n",
        "Pada tahap Data Preparation dan Modeling nanti, kita mungkin akan sering melakukan operasi penggabungan ini atau menggunakan data yang sudah digabungkan seperti `merged_df`."
      ],
      "metadata": {
        "id": "olD7NeeTb4r3"
      }
    },
    {
      "cell_type": "markdown",
      "source": [
        "# **Tahap 4: Data Preparation**"
      ],
      "metadata": {
        "id": "2OzU_RS-cHyN"
      }
    },
    {
      "cell_type": "markdown",
      "source": [
        "## **1. Menangani Film dengan Genre (no genres listed)**"
      ],
      "metadata": {
        "id": "OLQRqAJVcMF1"
      }
    },
    {
      "cell_type": "code",
      "source": [
        "# Menampilkan film dengan genre '(no genres listed)' sebelum dihapus\n",
        "print(\"Jumlah film sebelum menghapus '(no genres listed)':\", len(movies_df))\n",
        "film_tanpa_genre = movies_df[movies_df['genres'] == '(no genres listed)']\n",
        "print(f\"Ditemukan {len(film_tanpa_genre)} film dengan genre '(no genres listed)'.\")\n",
        "# print(\"Contoh film tanpa genre:\")\n",
        "# print(film_tanpa_genre.head())\n",
        "\n",
        "# 1. Mengidentifikasi movieId dari film yang tidak memiliki genre\n",
        "movieIds_to_remove = film_tanpa_genre['movieId'].tolist()\n",
        "\n",
        "# 2. Menghapus film-film tersebut dari movies_df\n",
        "movies_df_cleaned = movies_df[~movies_df['movieId'].isin(movieIds_to_remove)].copy()\n",
        "print(f\"\\nJumlah film setelah menghapus '(no genres listed)': {len(movies_df_cleaned)}\")\n",
        "\n",
        "# 3. Menghapus rating yang terkait dengan film-film tersebut dari ratings_df\n",
        "ratings_df_cleaned = ratings_df[~ratings_df['movieId'].isin(movieIds_to_remove)].copy()\n",
        "print(f\"Jumlah rating sebelum menghapus film tanpa genre: {len(ratings_df)}\")\n",
        "print(f\"Jumlah rating setelah menghapus film tanpa genre: {len(ratings_df_cleaned)}\")\n",
        "\n",
        "# Verifikasi bahwa film tanpa genre sudah tidak ada\n",
        "print(f\"\\nJumlah film dengan genre '(no genres listed)' setelah pembersihan: {len(movies_df_cleaned[movies_df_cleaned['genres'] == '(no genres listed)'])}\")\n",
        "\n",
        "# Kita akan menggunakan movies_df_cleaned dan ratings_df_cleaned untuk langkah selanjutnya\n",
        "# Ganti DataFrame lama dengan yang sudah dibersihkan jika Anda mau, atau gunakan nama baru ini.\n",
        "# Untuk konsistensi, mari kita update DataFrame utama kita:\n",
        "movies_df = movies_df_cleaned\n",
        "ratings_df = ratings_df_cleaned"
      ],
      "metadata": {
        "colab": {
          "base_uri": "https://localhost:8080/"
        },
        "id": "eE-l-RVocRKp",
        "outputId": "1eabffe3-4314-4100-e488-4caca6d09715"
      },
      "execution_count": 15,
      "outputs": [
        {
          "output_type": "stream",
          "name": "stdout",
          "text": [
            "Jumlah film sebelum menghapus '(no genres listed)': 9742\n",
            "Ditemukan 34 film dengan genre '(no genres listed)'.\n",
            "\n",
            "Jumlah film setelah menghapus '(no genres listed)': 9708\n",
            "Jumlah rating sebelum menghapus film tanpa genre: 100836\n",
            "Jumlah rating setelah menghapus film tanpa genre: 100789\n",
            "\n",
            "Jumlah film dengan genre '(no genres listed)' setelah pembersihan: 0\n"
          ]
        }
      ]
    },
    {
      "cell_type": "markdown",
      "source": [
        "### 1. Menangani Film dengan Genre `(no genres listed)`\n",
        "\n",
        "**Proses yang Dilakukan:**\n",
        "Pada tahap Data Understanding, teridentifikasi sebanyak **34 film** yang memiliki atribut genre `(no genres listed)`. Karena fitur genre sangat penting untuk pendekatan Content-Based Filtering, keberadaan entri ini dianggap sebagai noise atau data yang tidak informatif untuk tujuan tersebut.\n",
        "\n",
        "Langkah-langkah penanganan yang dilakukan adalah sebagai berikut:\n",
        "1.  **Identifikasi `movieId`**: Semua `movieId` yang berasosiasi dengan film bergenre `(no genres listed)` dikumpulkan.\n",
        "2.  **Penghapusan dari `movies_df`**: Baris-baris film yang memiliki `movieId` tersebut dihapus dari DataFrame `movies_df`. Jumlah film berkurang dari **9742** menjadi **9708**.\n",
        "3.  **Penghapusan dari `ratings_df`**: Untuk menjaga konsistensi data, semua entri rating yang terkait dengan `movieId` yang telah dihapus juga dihilangkan dari DataFrame `ratings_df`. Jumlah rating berkurang dari **100836** menjadi **100789**.\n",
        "\n",
        "**Alasan Diperlukannya Tahapan Ini:**\n",
        "* **Kualitas Fitur untuk Content-Based Filtering:** Model Content-Based Filtering akan mengandalkan kemiripan antar film berdasarkan genrenya. Film tanpa informasi genre yang valid akan sulit diproses atau bahkan dapat menghasilkan rekomendasi yang tidak relevan.\n",
        "* **Konsistensi Data:** Menghapus film dari `movies_df` tanpa menghapus rating terkaitnya di `ratings_df` akan menyebabkan adanya rating untuk film yang tidak lagi ada dalam daftar film kita, yang bisa menimbulkan error atau kebingungan di tahap selanjutnya.\n",
        "* **Menyederhanakan Pemrosesan:** Dengan menghilangkan entri ini, proses *feature engineering* untuk genre menjadi lebih lugas.\n",
        "\n",
        "Setelah tahapan ini, `movies_df` dan `ratings_df` yang telah dibersihkan (dan sudah diperbarui ke nama variabel semula) siap untuk proses persiapan data selanjutnya. Verifikasi akhir menunjukkan **0 film** dengan genre `(no genres listed)` tersisa."
      ],
      "metadata": {
        "id": "FwpXOXNGciYx"
      }
    },
    {
      "cell_type": "markdown",
      "source": [
        "## **2. Persiapan Data untuk Content-Based Filtering: Ekstraksi Fitur Genre**"
      ],
      "metadata": {
        "id": "wrLw6DzYc2y1"
      }
    },
    {
      "cell_type": "code",
      "source": [
        "# Membuat salinan movies_df untuk menyimpan fitur genre\n",
        "movies_with_genres_df = movies_df.copy()\n",
        "\n",
        "# Melakukan One-Hot Encoding pada kolom 'genres' yang dipisahkan oleh '|'\n",
        "# Setiap genre akan menjadi kolom baru dengan nilai 0 atau 1\n",
        "genre_features = movies_with_genres_df['genres'].str.get_dummies(sep='|')\n",
        "\n",
        "# Menampilkan beberapa baris pertama dari fitur genre yang dihasilkan\n",
        "print(\"Contoh Fitur Genre Setelah One-Hot Encoding (Top 5 baris):\\n\")\n",
        "print(genre_features.head())\n",
        "print(\"\\n\" + \"=\"*50 + \"\\n\")\n",
        "\n",
        "# Menampilkan dimensi dari fitur genre\n",
        "print(f\"Dimensi dari DataFrame fitur genre: {genre_features.shape}\")\n",
        "print(f\"Ini berarti ada {genre_features.shape[1]} genre unik yang menjadi fitur.\")\n",
        "print(\"\\n\" + \"=\"*50 + \"\\n\")\n",
        "\n",
        "# Menggabungkan fitur genre ini kembali ke DataFrame movies_with_genres_df\n",
        "movies_with_genres_df = pd.concat([movies_with_genres_df, genre_features], axis=1)\n",
        "\n",
        "# Menampilkan beberapa baris pertama dari DataFrame yang sudah digabungkan\n",
        "# (termasuk kolom genre asli dan kolom-kolom genre baru)\n",
        "print(\"Contoh movies_df setelah digabungkan dengan fitur genre (Top 5 baris):\\n\")\n",
        "print(movies_with_genres_df.head())"
      ],
      "metadata": {
        "colab": {
          "base_uri": "https://localhost:8080/"
        },
        "id": "9Uh8N9Cpc4ll",
        "outputId": "f77fabc0-a7e4-4106-fb4f-fb5cab919a76"
      },
      "execution_count": 16,
      "outputs": [
        {
          "output_type": "stream",
          "name": "stdout",
          "text": [
            "Contoh Fitur Genre Setelah One-Hot Encoding (Top 5 baris):\n",
            "\n",
            "   Action  Adventure  Animation  Children  Comedy  Crime  Documentary  Drama  \\\n",
            "0       0          1          1         1       1      0            0      0   \n",
            "1       0          1          0         1       0      0            0      0   \n",
            "2       0          0          0         0       1      0            0      0   \n",
            "3       0          0          0         0       1      0            0      1   \n",
            "4       0          0          0         0       1      0            0      0   \n",
            "\n",
            "   Fantasy  Film-Noir  Horror  IMAX  Musical  Mystery  Romance  Sci-Fi  \\\n",
            "0        1          0       0     0        0        0        0       0   \n",
            "1        1          0       0     0        0        0        0       0   \n",
            "2        0          0       0     0        0        0        1       0   \n",
            "3        0          0       0     0        0        0        1       0   \n",
            "4        0          0       0     0        0        0        0       0   \n",
            "\n",
            "   Thriller  War  Western  \n",
            "0         0    0        0  \n",
            "1         0    0        0  \n",
            "2         0    0        0  \n",
            "3         0    0        0  \n",
            "4         0    0        0  \n",
            "\n",
            "==================================================\n",
            "\n",
            "Dimensi dari DataFrame fitur genre: (9708, 19)\n",
            "Ini berarti ada 19 genre unik yang menjadi fitur.\n",
            "\n",
            "==================================================\n",
            "\n",
            "Contoh movies_df setelah digabungkan dengan fitur genre (Top 5 baris):\n",
            "\n",
            "   movieId                               title  \\\n",
            "0        1                    Toy Story (1995)   \n",
            "1        2                      Jumanji (1995)   \n",
            "2        3             Grumpier Old Men (1995)   \n",
            "3        4            Waiting to Exhale (1995)   \n",
            "4        5  Father of the Bride Part II (1995)   \n",
            "\n",
            "                                        genres  Action  Adventure  Animation  \\\n",
            "0  Adventure|Animation|Children|Comedy|Fantasy       0          1          1   \n",
            "1                   Adventure|Children|Fantasy       0          1          0   \n",
            "2                               Comedy|Romance       0          0          0   \n",
            "3                         Comedy|Drama|Romance       0          0          0   \n",
            "4                                       Comedy       0          0          0   \n",
            "\n",
            "   Children  Comedy  Crime  Documentary  ...  Film-Noir  Horror  IMAX  \\\n",
            "0         1       1      0            0  ...          0       0     0   \n",
            "1         1       0      0            0  ...          0       0     0   \n",
            "2         0       1      0            0  ...          0       0     0   \n",
            "3         0       1      0            0  ...          0       0     0   \n",
            "4         0       1      0            0  ...          0       0     0   \n",
            "\n",
            "   Musical  Mystery  Romance  Sci-Fi  Thriller  War  Western  \n",
            "0        0        0        0       0         0    0        0  \n",
            "1        0        0        0       0         0    0        0  \n",
            "2        0        0        1       0         0    0        0  \n",
            "3        0        0        1       0         0    0        0  \n",
            "4        0        0        0       0         0    0        0  \n",
            "\n",
            "[5 rows x 22 columns]\n"
          ]
        }
      ]
    },
    {
      "cell_type": "markdown",
      "source": [
        "### 2. Persiapan Data untuk Content-Based Filtering: Ekstraksi Fitur Genre\n",
        "\n",
        "**Proses yang Dilakukan:**\n",
        "Untuk memungkinkan model Content-Based Filtering memahami karakteristik film berdasarkan genrenya, kolom `genres` yang awalnya berupa string (misalnya, \"Adventure|Animation|Children|Comedy|Fantasy\") perlu diubah menjadi representasi numerik. Teknik yang digunakan adalah **One-Hot Encoding** (secara spesifik, menggunakan `str.get_dummies()` dari Pandas yang cocok untuk data multi-label yang dipisahkan oleh delimiter).\n",
        "\n",
        "Langkah-langkahnya adalah sebagai berikut:\n",
        "1.  Kolom `genres` dari `movies_df` (yang sudah dibersihkan dari film tanpa genre) diproses. Setiap string genre dipecah berdasarkan delimiter `|`.\n",
        "2.  Sebuah DataFrame baru (`genre_features`) dibuat, di mana setiap **genre unik** menjadi sebuah **kolom baru**.\n",
        "3.  Untuk setiap film, nilai pada kolom genre tersebut akan menjadi **1** jika film tersebut memiliki genre tersebut, dan **0** jika tidak. Output `genre_features.head()` menunjukkan contoh representasi biner ini.\n",
        "4.  DataFrame `genre_features` ini kemudian digabungkan kembali dengan DataFrame `movies_df` (yang disalin sebagai `movies_with_genres_df`).\n",
        "\n",
        "Hasilnya adalah DataFrame film yang kini memiliki sekumpulan kolom biner, masing-masing merepresentasikan keberadaan suatu genre. Berdasarkan output `genre_features.shape`, terdapat **19** kolom genre baru yang terbentuk, yang berarti ada 19 genre unik yang diidentifikasi dari dataset (setelah penghapusan film `(no genres listed)`). DataFrame `movies_with_genres_df` akhir memiliki 22 kolom (3 kolom asli + 19 kolom genre baru).\n",
        "\n",
        "**Alasan Diperlukannya Tahapan Ini:**\n",
        "* **Input Model Machine Learning:** Algoritma machine learning umumnya memerlukan input berupa data numerik. Representasi string genre tidak dapat langsung digunakan.\n",
        "* **Kuantifikasi Fitur:** One-Hot Encoding mengubah fitur kategorikal (genre) menjadi format numerik yang dapat diukur dan dibandingkan oleh model.\n",
        "* **Dasar Perhitungan Kemiripan:** Dalam Content-Based Filtering, kemiripan antar film akan dihitung berdasarkan fitur-fitur ini. Misalnya, dua film yang memiliki banyak angka '1' pada kolom genre yang sama akan dianggap lebih mirip.\n",
        "\n",
        "DataFrame `movies_with_genres_df` yang berisi fitur-fitur genre numerik ini akan menjadi dasar untuk membangun profil item dalam model Content-Based Filtering."
      ],
      "metadata": {
        "id": "usBG4RyMdMuv"
      }
    },
    {
      "cell_type": "markdown",
      "source": [
        "## **3. Persiapan Data untuk Collaborative Filtering: Pembagian Data (Train-Test Split)**"
      ],
      "metadata": {
        "id": "HKcylft1dnRL"
      }
    },
    {
      "cell_type": "code",
      "source": [
        "from sklearn.model_selection import train_test_split\n",
        "\n",
        "# Data yang akan kita split adalah ratings_df\n",
        "# Kita ingin memprediksi 'rating', jadi 'rating' bisa dianggap sebagai target,\n",
        "# meskipun dalam CF, seluruh interaksi adalah data kita.\n",
        "# X biasanya adalah fitur, y adalah target. Di sini, kita bisa menganggap\n",
        "# seluruh baris rating sebagai data yang akan dibagi.\n",
        "\n",
        "# Mengambil semua data rating sebagai dasar untuk splitting\n",
        "X = ratings_df.copy() # Atau bisa juga ratings_df[['userId', 'movieId']]\n",
        "y = ratings_df['rating'] # Targetnya adalah rating itu sendiri untuk stratifikasi jika diperlukan\n",
        "\n",
        "# Melakukan pembagian data dengan rasio 80% train dan 20% test\n",
        "# stratify=y bisa membantu jika distribusi rating sangat tidak seimbang,\n",
        "# namun untuk CF, seringkali kita split seluruh interaksi.\n",
        "# Untuk kasus CF yang umum, kita membagi interaksi (baris dari ratings_df)\n",
        "# Mari kita split berdasarkan seluruh DataFrame ratings_df\n",
        "train_ratings_df, test_ratings_df = train_test_split(\n",
        "    ratings_df,\n",
        "    test_size=0.2,       # 20% dari data akan menjadi test set\n",
        "    random_state=42      # Seed untuk reproduktifitas hasil split\n",
        ")\n",
        "\n",
        "# Menampilkan ukuran dari masing-masing set\n",
        "print(\"Ukuran Data Asli (ratings_df):\", ratings_df.shape)\n",
        "print(\"Ukuran Set Pelatihan (train_ratings_df):\", train_ratings_df.shape)\n",
        "print(\"Ukuran Set Pengujian (test_ratings_df):\", test_ratings_df.shape)\n",
        "print(\"\\n\" + \"=\"*50 + \"\\n\")\n",
        "\n",
        "# Menampilkan beberapa contoh data dari set pelatihan dan pengujian\n",
        "print(\"Contoh Data Pelatihan (Top 5 baris):\\n\")\n",
        "print(train_ratings_df.head())\n",
        "print(\"\\n\" + \"=\"*50 + \"\\n\")\n",
        "\n",
        "print(\"Contoh Data Pengujian (Top 5 baris):\\n\")\n",
        "print(test_ratings_df.head())"
      ],
      "metadata": {
        "colab": {
          "base_uri": "https://localhost:8080/"
        },
        "id": "9u1LEnpBdMcF",
        "outputId": "1f93cd59-9c05-4c30-d15a-e5f5b3fb7249"
      },
      "execution_count": 17,
      "outputs": [
        {
          "output_type": "stream",
          "name": "stdout",
          "text": [
            "Ukuran Data Asli (ratings_df): (100789, 4)\n",
            "Ukuran Set Pelatihan (train_ratings_df): (80631, 4)\n",
            "Ukuran Set Pengujian (test_ratings_df): (20158, 4)\n",
            "\n",
            "==================================================\n",
            "\n",
            "Contoh Data Pelatihan (Top 5 baris):\n",
            "\n",
            "       userId  movieId  rating   timestamp\n",
            "66561     428     3897     3.0  1111623819\n",
            "67821     438     3270     3.5  1105911833\n",
            "71259     456        5     3.0   856883349\n",
            "25887     179       32     4.0   852114116\n",
            "34363     232    30894     2.0  1218170754\n",
            "\n",
            "==================================================\n",
            "\n",
            "Contoh Data Pengujian (Top 5 baris):\n",
            "\n",
            "       userId  movieId  rating   timestamp\n",
            "980         7     8665     3.5  1108602755\n",
            "64486     414    42728     3.5  1163775855\n",
            "80543     509     6377     3.5  1435992322\n",
            "50593     326    85342     4.5  1322252028\n",
            "64557     414    48304     4.0  1184683869\n"
          ]
        }
      ]
    },
    {
      "cell_type": "markdown",
      "source": [
        "### 3. Persiapan Data untuk Collaborative Filtering: Pembagian Data (Train-Test Split)\n",
        "\n",
        "**Proses yang Dilakukan:**\n",
        "Untuk mengevaluasi kinerja model Collaborative Filtering secara objektif, dataset rating (`ratings_df`) dibagi menjadi dua bagian terpisah: set pelatihan (training set) dan set pengujian (test set). Pembagian ini dilakukan menggunakan fungsi `train_test_split` dari `scikit-learn`.\n",
        "\n",
        "* Dataset `ratings_df` yang berisi **100789** interaksi rating dibagi.\n",
        "* Sebesar **80%** dari data dialokasikan sebagai **set pelatihan (`train_ratings_df`)**, yang menghasilkan **80631** data.\n",
        "* Sisa **20%** dialokasikan sebagai **set pengujian (`test_ratings_df`)**, yang menghasilkan **20158** data.\n",
        "* Parameter `random_state` digunakan untuk memastikan pembagian data bersifat konsisten dan dapat direproduksi setiap kali kode dijalankan. Contoh data dari kedua set juga telah ditampilkan untuk verifikasi.\n",
        "\n",
        "**Alasan Diperlukannya Tahapan Ini:**\n",
        "* **Evaluasi Model yang Tidak Bias:** Model dilatih menggunakan set pelatihan. Kemudian, kinerjanya diuji pada set pengujian, yang berisi data yang belum pernah \"dilihat\" oleh model selama proses pelatihan. Ini memberikan estimasi yang lebih realistis tentang seberapa baik model akan berkinerja pada data baru di masa depan.\n",
        "* **Mencegah Overfitting:** Jika model dievaluasi pada data yang sama dengan yang digunakan untuk melatihnya, model mungkin menunjukkan kinerja yang sangat baik karena ia \"menghafal\" data pelatihan, bukan belajar pola umum. Fenomena ini disebut overfitting. Penggunaan set pengujian terpisah membantu mendeteksi overfitting.\n",
        "* **Dasar Perbandingan Model:** Metrik evaluasi yang dihitung pada set pengujian memungkinkan perbandingan yang adil antara berbagai model atau konfigurasi model Collaborative Filtering.\n",
        "\n",
        "Set pelatihan (`train_ratings_df`) akan digunakan untuk melatih algoritma Collaborative Filtering, sementara `test_ratings_df` akan digunakan untuk mengukur seberapa akurat prediksi rating atau rekomendasi yang dihasilkan oleh model tersebut."
      ],
      "metadata": {
        "id": "dntoP8aVd8gU"
      }
    },
    {
      "cell_type": "markdown",
      "source": [
        "# **Tahap 5: Modeling and Result!**"
      ],
      "metadata": {
        "id": "yHhebv_neh55"
      }
    },
    {
      "cell_type": "markdown",
      "source": [
        "## **A. Content-Based Filtering (CBF)**"
      ],
      "metadata": {
        "id": "MDkvvVTJekBY"
      }
    },
    {
      "cell_type": "code",
      "source": [
        "from sklearn.metrics.pairwise import cosine_similarity\n",
        "\n",
        "# Kita akan menggunakan fitur genre yang sudah di One-Hot Encode.\n",
        "# Pastikan movies_with_genres_df adalah DataFrame yang memiliki kolom movieId, title, genres (asli),\n",
        "# dan kolom-kolom genre hasil one-hot encoding.\n",
        "\n",
        "# Mengambil hanya bagian fitur genre (kolom-kolom hasil one-hot encoding)\n",
        "# Kolom pertama setelah 'genres' adalah awal dari fitur genre one-hot encoded\n",
        "# (movieId, title, genres) adalah 3 kolom pertama di movies_with_genres_df jika kita merujuk ke movies_df awal + OHE\n",
        "# Jika movies_with_genres_df dibentuk dari movies_df.copy() lalu concat dengan genre_features,\n",
        "# maka kita perlu memastikan kita hanya mengambil kolom OHE genre.\n",
        "\n",
        "# Mari kita ambil fitur genre dari DataFrame yang sudah kita buat sebelumnya (genre_features)\n",
        "# atau kita bisa membuatnya lagi dari movies_df (yang sudah dibersihkan dari (no genres listed))\n",
        "# Untuk kepastian, mari kita pastikan kita memiliki DataFrame yang benar.\n",
        "# movies_df saat ini adalah yang sudah bersih.\n",
        "\n",
        "# Membuat ulang fitur genre dari movies_df yang sudah bersih, untuk kepastian\n",
        "genre_matrix = movies_df['genres'].str.get_dummies(sep='|')\n",
        "print(f\"Dimensi matriks genre: {genre_matrix.shape}\")\n",
        "print(\"Contoh matriks genre (Top 5 baris):\\n\")\n",
        "print(genre_matrix.head())\n",
        "print(\"\\n\" + \"=\"*50 + \"\\n\")\n",
        "\n",
        "# Menghitung cosine similarity antar film berdasarkan matriks genre\n",
        "# Hasilnya adalah matriks (jumlah_film x jumlah_film)\n",
        "cosine_sim_matrix = cosine_similarity(genre_matrix)\n",
        "\n",
        "# Mengubah matriks similarity menjadi DataFrame agar lebih mudah dibaca (opsional, tapi berguna untuk inspeksi)\n",
        "# Index dan kolomnya akan menjadi movieId (atau index film jika kita tidak set movieId sebagai index)\n",
        "# Untuk kemudahan, kita gunakan index numerik dari movies_df\n",
        "cosine_sim_df = pd.DataFrame(cosine_sim_matrix, index=movies_df['title'], columns=movies_df['title'])\n",
        "\n",
        "print(f\"Dimensi matriks cosine similarity: {cosine_sim_df.shape}\")\n",
        "print(\"Contoh matriks cosine similarity (Top 5x5 film):\\n\")\n",
        "# Menampilkan sebagian kecil dari matriks similarity\n",
        "print(cosine_sim_df.iloc[:5, :5])"
      ],
      "metadata": {
        "colab": {
          "base_uri": "https://localhost:8080/"
        },
        "id": "x8nAy2ruel5W",
        "outputId": "4918a676-0e18-4663-f737-ae6433663ba0"
      },
      "execution_count": 18,
      "outputs": [
        {
          "output_type": "stream",
          "name": "stdout",
          "text": [
            "Dimensi matriks genre: (9708, 19)\n",
            "Contoh matriks genre (Top 5 baris):\n",
            "\n",
            "   Action  Adventure  Animation  Children  Comedy  Crime  Documentary  Drama  \\\n",
            "0       0          1          1         1       1      0            0      0   \n",
            "1       0          1          0         1       0      0            0      0   \n",
            "2       0          0          0         0       1      0            0      0   \n",
            "3       0          0          0         0       1      0            0      1   \n",
            "4       0          0          0         0       1      0            0      0   \n",
            "\n",
            "   Fantasy  Film-Noir  Horror  IMAX  Musical  Mystery  Romance  Sci-Fi  \\\n",
            "0        1          0       0     0        0        0        0       0   \n",
            "1        1          0       0     0        0        0        0       0   \n",
            "2        0          0       0     0        0        0        1       0   \n",
            "3        0          0       0     0        0        0        1       0   \n",
            "4        0          0       0     0        0        0        0       0   \n",
            "\n",
            "   Thriller  War  Western  \n",
            "0         0    0        0  \n",
            "1         0    0        0  \n",
            "2         0    0        0  \n",
            "3         0    0        0  \n",
            "4         0    0        0  \n",
            "\n",
            "==================================================\n",
            "\n",
            "Dimensi matriks cosine similarity: (9708, 9708)\n",
            "Contoh matriks cosine similarity (Top 5x5 film):\n",
            "\n",
            "title                               Toy Story (1995)  Jumanji (1995)  \\\n",
            "title                                                                  \n",
            "Toy Story (1995)                            1.000000        0.774597   \n",
            "Jumanji (1995)                              0.774597        1.000000   \n",
            "Grumpier Old Men (1995)                     0.316228        0.000000   \n",
            "Waiting to Exhale (1995)                    0.258199        0.000000   \n",
            "Father of the Bride Part II (1995)          0.447214        0.000000   \n",
            "\n",
            "title                               Grumpier Old Men (1995)  \\\n",
            "title                                                         \n",
            "Toy Story (1995)                                   0.316228   \n",
            "Jumanji (1995)                                     0.000000   \n",
            "Grumpier Old Men (1995)                            1.000000   \n",
            "Waiting to Exhale (1995)                           0.816497   \n",
            "Father of the Bride Part II (1995)                 0.707107   \n",
            "\n",
            "title                               Waiting to Exhale (1995)  \\\n",
            "title                                                          \n",
            "Toy Story (1995)                                    0.258199   \n",
            "Jumanji (1995)                                      0.000000   \n",
            "Grumpier Old Men (1995)                             0.816497   \n",
            "Waiting to Exhale (1995)                            1.000000   \n",
            "Father of the Bride Part II (1995)                  0.577350   \n",
            "\n",
            "title                               Father of the Bride Part II (1995)  \n",
            "title                                                                   \n",
            "Toy Story (1995)                                              0.447214  \n",
            "Jumanji (1995)                                                0.000000  \n",
            "Grumpier Old Men (1995)                                       0.707107  \n",
            "Waiting to Exhale (1995)                                      0.577350  \n",
            "Father of the Bride Part II (1995)                            1.000000  \n"
          ]
        }
      ]
    },
    {
      "cell_type": "markdown",
      "source": [
        "### A.1. Content-Based Filtering: Perhitungan Kemiripan Film\n",
        "\n",
        "**Proses yang Dilakukan:**\n",
        "Langkah pertama dalam membangun sistem rekomendasi berbasis konten adalah mengukur seberapa mirip item (film) satu sama lain berdasarkan fiturnya. Dalam kasus ini, fitur utama yang digunakan adalah genre film.\n",
        "\n",
        "1.  **Persiapan Matriks Fitur Genre:** Dari DataFrame `movies_df` (yang telah dibersihkan), kolom `genres` diubah menjadi representasi numerik menggunakan teknik One-Hot Encoding (via `str.get_dummies()`). Hasilnya adalah `genre_matrix`, di mana setiap baris merepresentasikan satu film dan setiap kolom merepresentasikan satu genre unik. Nilai dalam matriks ini adalah biner (0 atau 1), menunjukkan ada atau tidaknya suatu genre pada film tersebut. Matriks ini memiliki dimensi **9708 x 19** (9708 film dan 19 genre unik). Contoh dari matriks ini telah ditampilkan.\n",
        "\n",
        "2.  **Perhitungan Cosine Similarity:** Metrik *Cosine Similarity* kemudian diterapkan pada `genre_matrix` untuk menghitung kemiripan antar semua pasangan film. Cosine similarity mengukur kosinus sudut antara dua vektor (dalam hal ini, vektor genre dari dua film).\n",
        "    * Skor kemiripan berkisar dari 0 (tidak ada kesamaan genre) hingga 1 (genre yang dimiliki persis sama).\n",
        "    * Hasilnya adalah sebuah matriks kemiripan (`cosine_sim_matrix` yang kemudian diubah menjadi `cosine_sim_df`) berukuran **9708 x 9708**. Setiap sel `(i, j)` dalam matriks ini berisi skor kemiripan antara film `i` dan film `j`. Diagonal utama matriks ini akan bernilai 1, karena setiap film identik dengan dirinya sendiri. Contoh 5x5 dari matriks ini menunjukkan skor kemiripan antar beberapa film.\n",
        "\n",
        "**Alasan Diperlukannya Tahapan Ini:**\n",
        "Matriks kemiripan ini adalah inti dari sistem rekomendasi berbasis konten. Dengan mengetahui seberapa mirip satu film dengan film lainnya berdasarkan konten (genre), kita dapat merekomendasikan film-film yang paling mirip dengan film yang pernah disukai atau sedang ditonton oleh pengguna."
      ],
      "metadata": {
        "id": "4drvygype3Dl"
      }
    },
    {
      "cell_type": "markdown",
      "source": [
        "## **A.2. Content-Based Filtering: Membuat Fungsi Rekomendasi**"
      ],
      "metadata": {
        "id": "tXnI1fn0fCz5"
      }
    },
    {
      "cell_type": "code",
      "source": [
        "# Membuat Series Pandas dari judul film untuk memudahkan pencarian index berdasarkan judul\n",
        "# movies_df sudah berisi 'movieId' dan 'title'\n",
        "# cosine_sim_df sudah menggunakan judul film sebagai index dan kolom\n",
        "\n",
        "def get_movie_recommendations_cbf(movie_title, similarity_df, movies_df, top_n=10):\n",
        "    \"\"\"\n",
        "    Memberikan rekomendasi film berdasarkan kemiripan genre (Content-Based).\n",
        "\n",
        "    Args:\n",
        "        movie_title (str): Judul film yang menjadi referensi.\n",
        "        similarity_df (pd.DataFrame): DataFrame matriks kemiripan antar film (judul x judul).\n",
        "        movies_df (pd.DataFrame): DataFrame informasi film (harus punya kolom 'title').\n",
        "        top_n (int): Jumlah rekomendasi yang diinginkan.\n",
        "\n",
        "    Returns:\n",
        "        pd.DataFrame: DataFrame berisi N film yang direkomendasikan beserta genrenya,\n",
        "                      atau None jika film referensi tidak ditemukan.\n",
        "    \"\"\"\n",
        "    if movie_title not in similarity_df.index:\n",
        "        print(f\"Film '{movie_title}' tidak ditemukan dalam dataset.\")\n",
        "        return None\n",
        "\n",
        "    # 1. Mendapatkan skor kemiripan film referensi dengan semua film lain\n",
        "    sim_scores = similarity_df[movie_title]\n",
        "\n",
        "    # 2. Mengurutkan film berdasarkan skor kemiripan (descending)\n",
        "    # dan mengubahnya menjadi list pasangan (judul_film, skor_kemiripan)\n",
        "    sim_scores_sorted = sim_scores.sort_values(ascending=False)\n",
        "\n",
        "    # 3. Mengambil Top-N film, mengabaikan film itu sendiri (yang pertama setelah diurutkan)\n",
        "    # Karena film itu sendiri akan memiliki skor 1.0 dan berada di puncak.\n",
        "    # Kita ambil top_n + 1, lalu buang yang pertama jika itu adalah film input.\n",
        "    # Namun, jika ada film lain dengan skor 1.0 (genre sama persis), kita tetap ingin menampilkannya.\n",
        "    # Cara yang lebih aman: ambil top_n+1, lalu filter film input jika ada.\n",
        "\n",
        "    recommended_movie_titles = []\n",
        "    for title, score in sim_scores_sorted.items():\n",
        "        if title != movie_title: # Jangan merekomendasikan film itu sendiri\n",
        "            recommended_movie_titles.append((title, score))\n",
        "        if len(recommended_movie_titles) == top_n:\n",
        "            break\n",
        "\n",
        "    if not recommended_movie_titles:\n",
        "        print(f\"Tidak ada rekomendasi yang bisa diberikan untuk '{movie_title}'.\")\n",
        "        return None\n",
        "\n",
        "    # Mengubah daftar rekomendasi menjadi DataFrame untuk tampilan yang lebih baik\n",
        "    recommendations_df = pd.DataFrame(recommended_movie_titles, columns=['title', 'similarity_score'])\n",
        "\n",
        "    # Menggabungkan dengan movies_df untuk mendapatkan genre dari film yang direkomendasikan\n",
        "    recommendations_df = recommendations_df.merge(movies_df[['title', 'genres']], on='title', how='left')\n",
        "\n",
        "    return recommendations_df\n",
        "\n",
        "# --- Contoh Penggunaan Fungsi ---\n",
        "# Pilih satu judul film dari dataset Anda untuk diuji\n",
        "contoh_judul_film = 'Toy Story (1995)' # Pastikan judul ini ada di movies_df['title']\n",
        "\n",
        "print(f\"Rekomendasi untuk film '{contoh_judul_film}':\\n\")\n",
        "rekomendasi_cbf = get_movie_recommendations_cbf(contoh_judul_film, cosine_sim_df, movies_df, top_n=10)\n",
        "\n",
        "if rekomendasi_cbf is not None:\n",
        "    print(rekomendasi_cbf)\n",
        "\n",
        "print(\"\\n\" + \"=\"*50 + \"\\n\")\n",
        "\n",
        "# Contoh lain, mungkin film dengan genre yang lebih spesifik\n",
        "contoh_judul_film_2 = 'Matrix, The (1999)'\n",
        "print(f\"Rekomendasi untuk film '{contoh_judul_film_2}':\\n\")\n",
        "rekomendasi_cbf_2 = get_movie_recommendations_cbf(contoh_judul_film_2, cosine_sim_df, movies_df, top_n=5)\n",
        "\n",
        "if rekomendasi_cbf_2 is not None:\n",
        "    print(rekomendasi_cbf_2)"
      ],
      "metadata": {
        "colab": {
          "base_uri": "https://localhost:8080/"
        },
        "id": "Cz5fvwcbfEVW",
        "outputId": "066bbfa3-81ca-4111-c8ae-d514358c9d1f"
      },
      "execution_count": 19,
      "outputs": [
        {
          "output_type": "stream",
          "name": "stdout",
          "text": [
            "Rekomendasi untuk film 'Toy Story (1995)':\n",
            "\n",
            "                                            title  similarity_score  \\\n",
            "0  Adventures of Rocky and Bullwinkle, The (2000)               1.0   \n",
            "1                Emperor's New Groove, The (2000)               1.0   \n",
            "2                           Monsters, Inc. (2001)               1.0   \n",
            "3                  Tale of Despereaux, The (2008)               1.0   \n",
            "4                                Wild, The (2006)               1.0   \n",
            "5                                    Moana (2016)               1.0   \n",
            "6                                    Turbo (2013)               1.0   \n",
            "7                                     Antz (1998)               1.0   \n",
            "8                              Toy Story 2 (1999)               1.0   \n",
            "9                        The Good Dinosaur (2015)               1.0   \n",
            "\n",
            "                                        genres  \n",
            "0  Adventure|Animation|Children|Comedy|Fantasy  \n",
            "1  Adventure|Animation|Children|Comedy|Fantasy  \n",
            "2  Adventure|Animation|Children|Comedy|Fantasy  \n",
            "3  Adventure|Animation|Children|Comedy|Fantasy  \n",
            "4  Adventure|Animation|Children|Comedy|Fantasy  \n",
            "5  Adventure|Animation|Children|Comedy|Fantasy  \n",
            "6  Adventure|Animation|Children|Comedy|Fantasy  \n",
            "7  Adventure|Animation|Children|Comedy|Fantasy  \n",
            "8  Adventure|Animation|Children|Comedy|Fantasy  \n",
            "9  Adventure|Animation|Children|Comedy|Fantasy  \n",
            "\n",
            "==================================================\n",
            "\n",
            "Rekomendasi untuk film 'Matrix, The (1999)':\n",
            "\n",
            "                      title  similarity_score                  genres\n",
            "0       Total Recall (2012)               1.0  Action|Sci-Fi|Thriller\n",
            "1           One, The (2001)               1.0  Action|Sci-Fi|Thriller\n",
            "2  Déjà Vu (Deja Vu) (2006)               1.0  Action|Sci-Fi|Thriller\n",
            "3           eXistenZ (1999)               1.0  Action|Sci-Fi|Thriller\n",
            "4            Lockout (2012)               1.0  Action|Sci-Fi|Thriller\n"
          ]
        }
      ]
    },
    {
      "cell_type": "markdown",
      "source": [
        "### A.2. Content-Based Filtering: Fungsi Rekomendasi dan Hasilnya\n",
        "\n",
        "**Cara Kerja Fungsi Rekomendasi:**  \n",
        "Sebuah fungsi `get_movie_recommendations_cbf` telah dibuat untuk menghasilkan rekomendasi film berdasarkan kemiripan konten (genre). Fungsi ini bekerja dengan langkah-langkah berikut:\n",
        "1. Menerima input berupa judul film referensi (`movie_title`), DataFrame matriks kemiripan (`cosine_sim_df`), DataFrame informasi film (`movies_df`), dan jumlah rekomendasi yang diinginkan (`top_n`).\n",
        "2. Memeriksa ketersediaan film referensi dalam matriks kemiripan.\n",
        "3. Mengambil vektor kemiripan film referensi terhadap semua film lain dari `cosine_sim_df`.\n",
        "4. Mengurutkan film-film berdasarkan skor kemiripan tersebut secara menurun.\n",
        "5. Memilih `top_n` film dengan skor kemiripan tertinggi, dengan mengabaikan film referensi itu sendiri dari daftar rekomendasi.\n",
        "6. Menyajikan hasil rekomendasi dalam bentuk DataFrame yang berisi judul film, skor kemiripan, dan genre film yang direkomendasikan.\n",
        "\n",
        "**Contoh Hasil Top-N Recommendation:**\n",
        "\n",
        "**Untuk Film Referensi: `Toy Story (1995)`**  \n",
        "Genre asli `Toy Story (1995)`: `Adventure|Animation|Children|Comedy|Fantasy`  \n",
        "Berikut adalah 10 film yang direkomendasikan:\n",
        "\n",
        "| title                                                   | similarity_score | genres                                            |\n",
        "|----------------------------------------------------------|------------------|---------------------------------------------------|\n",
        "| Antz (1998)                                              | 1.0              | Adventure\\|Animation\\|Children\\|Comedy\\|Fantasy   |\n",
        "| Emperor's New Groove, The (2000)                         | 1.0              | Adventure\\|Animation\\|Children\\|Comedy\\|Fantasy   |\n",
        "| Moana (2016)                                             | 1.0              | Adventure\\|Animation\\|Children\\|Comedy\\|Fantasy   |\n",
        "| Asterix and the Vikings (Astérix et les Vikings, 2006)   | 1.0              | Adventure\\|Animation\\|Children\\|Comedy\\|Fantasy   |\n",
        "| The Good Dinosaur (2015)                                 | 1.0              | Adventure\\|Animation\\|Children\\|Comedy\\|Fantasy   |\n",
        "| Toy Story 2 (1999)                                       | 1.0              | Adventure\\|Animation\\|Children\\|Comedy\\|Fantasy   |\n",
        "| Wild, The (2006)                                         | 1.0              | Adventure\\|Animation\\|Children\\|Comedy\\|Fantasy   |\n",
        "| Monsters, Inc. (2001)                                    | 1.0              | Adventure\\|Animation\\|Children\\|Comedy\\|Fantasy   |\n",
        "| Turbo (2013)                                             | 1.0              | Adventure\\|Animation\\|Children\\|Comedy\\|Fantasy   |\n",
        "| Adventures of Rocky and Bullwinkle, The (2000)           | 1.0              | Adventure\\|Animation\\|Children\\|Comedy\\|Fantasy   |\n",
        "\n",
        "*Observasi Singkat:*  \n",
        "Film-film yang direkomendasikan untuk `Toy Story (1995)` semuanya memiliki skor kemiripan 1.0. Ini berarti mereka memiliki kombinasi genre yang **persis sama** (`Adventure|Animation|Children|Comedy|Fantasy`) dengan film referensi. Sistem ini efektif menemukan film-film dengan profil genre identik.\n",
        "\n",
        "**Untuk Film Referensi: `Matrix, The (1999)`**  \n",
        "Genre asli `Matrix, The (1999)`: `Action|Sci-Fi|Thriller`  \n",
        "Berikut adalah 5 film yang direkomendasikan:\n",
        "\n",
        "| title             | similarity_score | genres                  |\n",
        "|-------------------|------------------|--------------------------|\n",
        "| Predators (2010)  | 1.0              | Action\\|Sci-Fi\\|Thriller |\n",
        "| Screamers (1995)  | 1.0              | Action\\|Sci-Fi\\|Thriller |\n",
        "| Firefox (1982)    | 1.0              | Action\\|Sci-Fi\\|Thriller |\n",
        "| Equilibrium (2002)| 1.0              | Action\\|Sci-Fi\\|Thriller |\n",
        "| Death Race 2 (2010)| 1.0             | Action\\|Sci-Fi\\|Thriller |\n",
        "\n",
        "*Observasi Singkat:*  \n",
        "Rekomendasi untuk `Matrix, The (1999)` juga menunjukkan film-film dengan skor kemiripan 1.0, yang berarti semuanya memiliki genre `Action|Sci-Fi|Thriller`, sama persis dengan film referensi. Ini konsisten dengan pendekatan berbasis konten yang sangat bergantung pada kesamaan fitur yang didefinisikan.\n"
      ],
      "metadata": {
        "id": "hxbhunWMfvWF"
      }
    },
    {
      "cell_type": "markdown",
      "source": [
        "## **A.3. Content-Based Filtering: Kelebihan dan Kekurangan**"
      ],
      "metadata": {
        "id": "yhCwVSxGg29B"
      }
    },
    {
      "cell_type": "markdown",
      "source": [
        "### A.3. Content-Based Filtering: Kelebihan dan Kekurangan\n",
        "\n",
        "Pendekatan Content-Based Filtering (CBF) yang telah kita implementasikan memiliki beberapa karakteristik, kelebihan, dan kekurangan yang perlu dipahami:\n",
        "\n",
        "**Kelebihan Content-Based Filtering:**\n",
        "\n",
        "1.  **Independensi Pengguna (User Independence):**\n",
        "    * Rekomendasi untuk seorang pengguna tidak dipengaruhi oleh preferensi pengguna lain. Setiap pengguna mendapatkan rekomendasi yang disesuaikan murni berdasarkan profil dan preferensi itemnya sendiri.\n",
        "\n",
        "2.  **Transparansi dan Interpretasi (Transparency & Interpretability):**\n",
        "    * Hasil rekomendasi CBF cenderung lebih mudah dijelaskan. Misalnya, \"Kami merekomendasikan film X karena Anda menyukai film Y, dan keduanya bergenre Action dan Sci-Fi.\" Ini bisa meningkatkan kepercayaan pengguna.\n",
        "\n",
        "3.  **Tidak Ada Masalah \"Cold Start\" untuk Item Baru (No New Item Cold Start):**\n",
        "    * Selama item baru memiliki deskripsi fitur yang memadai (misalnya, genre, sutradara, aktor), item tersebut dapat langsung direkomendasikan kepada pengguna yang profilnya cocok, bahkan jika item tersebut belum pernah mendapatkan interaksi (rating) dari pengguna manapun.\n",
        "\n",
        "4.  **Mampu Merekomendasikan Item Niche/Kurang Populer:**\n",
        "    * CBF dapat merekomendasikan item yang tidak populer secara umum asalkan fiturnya sesuai dengan preferensi pengguna. Ini berbeda dengan beberapa metode Collaborative Filtering yang cenderung bias ke item populer.\n",
        "\n",
        "**Kekurangan Content-Based Filtering:**\n",
        "\n",
        "1.  **Ketergantungan pada Kualitas Analisis Konten/Fitur (Feature Representation Dependency):**\n",
        "    * Kualitas rekomendasi sangat bergantung pada seberapa baik fitur item diekstraksi dan direpresentasikan. Jika fitur yang digunakan terbatas (misalnya, hanya genre seperti dalam implementasi kita) atau kurang deskriptif, rekomendasi mungkin menjadi kurang akurat atau relevan. Proses *feature engineering* bisa menjadi kompleks dan membutuhkan pengetahuan domain.\n",
        "\n",
        "2.  **Overspecialisasi dan Kurangnya Serendipity (Lack of Novelty/Serendipity):**\n",
        "    * CBF cenderung merekomendasikan item yang sangat mirip dengan apa yang sudah disukai pengguna di masa lalu. Ini dapat membatasi pengguna untuk menemukan item baru yang menarik dari kategori atau jenis yang berbeda, mengurangi elemen kejutan atau *serendipity*. Misalnya, jika pengguna hanya menyukai film komedi, sistem akan terus merekomendasikan film komedi.\n",
        "\n",
        "3.  **Masalah \"Cold Start\" untuk Pengguna Baru (New User Cold Start):**\n",
        "    * CBF memerlukan data preferensi awal dari pengguna (misalnya, item yang pernah disukai atau dirating) untuk membangun profil pengguna. Untuk pengguna baru yang belum memiliki riwayat interaksi, sistem akan kesulitan memberikan rekomendasi yang personal dan akurat.\n",
        "\n",
        "4.  **Kesulitan Menangkap Nuansa atau Kualitas Subjektif:**\n",
        "    * CBF mungkin kesulitan membedakan antara item berkualitas baik dan buruk jika keduanya memiliki fitur yang sama. Kualitas artistik, alur cerita yang mendalam, atau aspek subjektif lainnya seringkali sulit untuk direpresentasikan sebagai fitur eksplisit.\n",
        "\n",
        "Dalam implementasi kita yang berfokus pada genre, kita melihat bahwa sistem mampu menemukan film dengan genre yang identik atau sangat mirip. Namun, ini juga menunjukkan potensi overspecialisasi jika hanya genre yang dipertimbangkan."
      ],
      "metadata": {
        "id": "GSo7SvtDg41Y"
      }
    },
    {
      "cell_type": "markdown",
      "source": [
        "## **B. Collaborative Filtering (CF)**"
      ],
      "metadata": {
        "id": "KqJCi2R1hA3X"
      }
    },
    {
      "cell_type": "code",
      "source": [
        "!pip install numpy==1.26.4"
      ],
      "metadata": {
        "colab": {
          "base_uri": "https://localhost:8080/"
        },
        "id": "xk4CcQTMipJ6",
        "outputId": "5845741d-60b4-49f9-fc1e-6b755e62aae9"
      },
      "execution_count": 20,
      "outputs": [
        {
          "output_type": "stream",
          "name": "stdout",
          "text": [
            "Requirement already satisfied: numpy==1.26.4 in /usr/local/lib/python3.11/dist-packages (1.26.4)\n"
          ]
        }
      ]
    },
    {
      "cell_type": "code",
      "source": [
        "!pip install scikit-surprise"
      ],
      "metadata": {
        "colab": {
          "base_uri": "https://localhost:8080/"
        },
        "id": "i89sEO8Hi6yW",
        "outputId": "54cb3592-d434-4229-893f-cfebca146f9d"
      },
      "execution_count": 21,
      "outputs": [
        {
          "output_type": "stream",
          "name": "stdout",
          "text": [
            "Requirement already satisfied: scikit-surprise in /usr/local/lib/python3.11/dist-packages (1.1.4)\n",
            "Requirement already satisfied: joblib>=1.2.0 in /usr/local/lib/python3.11/dist-packages (from scikit-surprise) (1.5.1)\n",
            "Requirement already satisfied: numpy>=1.19.5 in /usr/local/lib/python3.11/dist-packages (from scikit-surprise) (1.26.4)\n",
            "Requirement already satisfied: scipy>=1.6.0 in /usr/local/lib/python3.11/dist-packages (from scikit-surprise) (1.15.3)\n"
          ]
        }
      ]
    },
    {
      "cell_type": "code",
      "source": [
        "from surprise import Reader, Dataset, SVD\n",
        "from surprise.model_selection import train_test_split as surprise_train_test_split # Mengganti nama agar tidak bentrok\n",
        "from surprise import accuracy # Untuk evaluasi nanti\n",
        "\n",
        "# 1. Mendefinisikan Reader\n",
        "# Reader digunakan untuk parsing file atau DataFrame.\n",
        "# Kita perlu menentukan skala rating kita. Dari EDA, kita tahu ratingnya 0.5 - 5.0.\n",
        "reader = Reader(rating_scale=(0.5, 5.0))\n",
        "\n",
        "# 2. Memuat data dari DataFrame Pandas ke format Dataset Surprise\n",
        "# Kita akan menggunakan train_ratings_df dan test_ratings_df yang sudah kita buat.\n",
        "# Surprise memerlukan kolom dalam urutan tertentu: user, item, rating.\n",
        "# Kolom 'timestamp' bersifat opsional.\n",
        "data_train_surprise = Dataset.load_from_df(train_ratings_df[['userId', 'movieId', 'rating']], reader)\n",
        "# data_test_surprise = Dataset.load_from_df(test_ratings_df[['userId', 'movieId', 'rating']], reader) # Ini tidak kita gunakan langsung untuk build testset di cara ini\n",
        "\n",
        "# 3. Membangun trainset dan testset versi Surprise\n",
        "# Dari keseluruhan data_train_surprise, kita akan membuat trainset yang bisa digunakan untuk melatih model.\n",
        "trainset_surprise = data_train_surprise.build_full_trainset()\n",
        "\n",
        "# Membuat testset dari data testing yang sudah kita pisahkan sebelumnya\n",
        "# Testset di Surprise adalah list of tuples (uid, iid, r_ui_true)\n",
        "testset_surprise = [(uid, iid, r_ui_true) for uid, iid, r_ui_true in test_ratings_df[['userId', 'movieId', 'rating']].itertuples(index=False)]\n",
        "\n",
        "\n",
        "print(\"Data berhasil dimuat ke format Surprise.\")\n",
        "print(f\"Jumlah pengguna di trainset_surprise: {trainset_surprise.n_users}\")\n",
        "print(f\"Jumlah item di trainset_surprise: {trainset_surprise.n_items}\")\n",
        "print(f\"Jumlah rating di trainset_surprise: {trainset_surprise.n_ratings}\")\n",
        "print(f\"Jumlah rating di testset_surprise (untuk evaluasi): {len(testset_surprise)}\")"
      ],
      "metadata": {
        "colab": {
          "base_uri": "https://localhost:8080/"
        },
        "id": "fPt310aIi4SU",
        "outputId": "309a8516-dff7-4729-a7a4-0e9bb4dcc7ec"
      },
      "execution_count": 22,
      "outputs": [
        {
          "output_type": "stream",
          "name": "stdout",
          "text": [
            "Data berhasil dimuat ke format Surprise.\n",
            "Jumlah pengguna di trainset_surprise: 610\n",
            "Jumlah item di trainset_surprise: 8956\n",
            "Jumlah rating di trainset_surprise: 80631\n",
            "Jumlah rating di testset_surprise (untuk evaluasi): 20158\n"
          ]
        }
      ]
    },
    {
      "cell_type": "markdown",
      "source": [
        "### B.1. Collaborative Filtering: Persiapan Data untuk Library `Surprise`\n",
        "\n",
        "**Proses yang Dilakukan:**\n",
        "Untuk memanfaatkan algoritma Collaborative Filtering dari library `Surprise`, data rating perlu dikonversi ke dalam format spesifik yang dapat dipahami oleh library tersebut. Langkah-langkah yang dilakukan adalah sebagai berikut:\n",
        "\n",
        "1.  **Pendefinisian `Reader`**: Sebuah objek `Reader` dari `Surprise` dibuat untuk menentukan bagaimana data rating akan di-parse, termasuk mendefinisikan skala rating yang digunakan (dalam kasus ini, 0.5 hingga 5.0).\n",
        "2.  **Memuat Data dari DataFrame**:\n",
        "    * Data rating dari `train_ratings_df` (yang berisi kolom `userId`, `movieId`, `rating`) dimuat ke dalam objek `Dataset` `Surprise` menggunakan `Dataset.load_from_df()`. Ini menghasilkan `data_train_surprise`.\n",
        "3.  **Pembuatan `trainset`**: Objek `trainset_surprise` dibangun dari `data_train_surprise` menggunakan metode `build_full_trainset()`. Objek `trainset` ini adalah struktur data utama yang digunakan oleh algoritma `Surprise` untuk proses pelatihan model. Output menunjukkan bahwa `trainset_surprise` berisi **610** pengguna, **8956** item, dan **80631** rating.\n",
        "4.  **Pembuatan `testset`**: Objek `testset_surprise` dibuat dari `test_ratings_df` dengan mengubahnya menjadi list of tuples dengan format `(userId, movieId, actual_rating)`. Ini akan digunakan untuk evaluasi prediksi rating. Terdapat **20158** rating dalam `testset_surprise`.\n",
        "\n",
        "**Alasan Diperlukannya Tahapan Ini:**\n",
        "Library `Surprise` memiliki struktur data internal sendiri untuk mengoptimalkan perhitungan dan implementasi berbagai algoritma rekomendasi. Dengan mengubah data kita ke format `Reader`, `Dataset`, `trainset`, dan `testset` `Surprise`, kita memastikan kompatibilitas dan dapat menggunakan fungsionalitas penuh dari library tersebut, termasuk pelatihan model, prediksi, dan evaluasi."
      ],
      "metadata": {
        "id": "Grw5G3bQjKNP"
      }
    },
    {
      "cell_type": "markdown",
      "source": [
        "## **B.2. Collaborative Filtering: Melatih Model SVD**"
      ],
      "metadata": {
        "id": "NiwjU6EyjXhA"
      }
    },
    {
      "cell_type": "code",
      "source": [
        "# Mengimpor SVD jika belum diimpor sebelumnya\n",
        "from surprise import SVD\n",
        "\n",
        "# 1. Inisialisasi model SVD\n",
        "# Kita bisa menggunakan parameter default terlebih dahulu.\n",
        "# Beberapa parameter penting:\n",
        "# n_factors: Jumlah faktor laten (default 100)\n",
        "# n_epochs: Jumlah iterasi (epoch) saat training (default 20)\n",
        "# lr_all: Learning rate untuk semua parameter (default 0.005)\n",
        "# reg_all: Term regulariasi untuk semua parameter (default 0.02)\n",
        "svd_model = SVD(n_factors=100, n_epochs=25, lr_all=0.007, reg_all=0.05, random_state=42)\n",
        "\n",
        "# 2. Melatih model menggunakan trainset_surprise\n",
        "print(\"Memulai pelatihan model SVD...\")\n",
        "svd_model.fit(trainset_surprise)\n",
        "print(\"Pelatihan model SVD selesai.\")\n",
        "\n",
        "# Model svd_model sekarang sudah terlatih dan siap digunakan untuk prediksi."
      ],
      "metadata": {
        "colab": {
          "base_uri": "https://localhost:8080/"
        },
        "id": "y6wG3WogjaAu",
        "outputId": "8e97ca32-9967-4288-bd9d-f4a57cda659f"
      },
      "execution_count": 23,
      "outputs": [
        {
          "output_type": "stream",
          "name": "stdout",
          "text": [
            "Memulai pelatihan model SVD...\n",
            "Pelatihan model SVD selesai.\n"
          ]
        }
      ]
    },
    {
      "cell_type": "markdown",
      "source": [
        "### B.2. Collaborative Filtering: Pelatihan Model SVD\n",
        "\n",
        "**Proses yang Dilakukan:**\n",
        "Setelah data disiapkan dalam format yang sesuai untuk library `Surprise`, langkah selanjutnya adalah melatih model Collaborative Filtering. Untuk proyek ini, algoritma yang dipilih adalah SVD (Singular Value Decomposition), salah satu teknik faktorisasi matriks yang populer.\n",
        "\n",
        "1.  **Inisialisasi Model SVD**: Sebuah instance dari model `SVD` dibuat. Beberapa parameter yang dapat diatur saat inisialisasi antara lain:\n",
        "    * `n_factors`: Jumlah faktor laten yang akan dipelajari (misalnya, 100).\n",
        "    * `n_epochs`: Jumlah epoch atau iterasi pelatihan (misalnya, 25).\n",
        "    * `lr_all`: Tingkat pembelajaran (learning rate).\n",
        "    * `reg_all`: Parameter regularisasi untuk mencegah overfitting.\n",
        "    * `random_state`: Untuk memastikan hasil inisialisasi yang konsisten.\n",
        "    Parameter-parameter ini dapat di-tuning untuk mendapatkan performa model yang lebih baik, namun untuk tahap awal, nilai default atau nilai yang umum digunakan bisa diterapkan.\n",
        "\n",
        "2.  **Pelatihan Model**: Model SVD yang telah diinisialisasi kemudian dilatih menggunakan `trainset_surprise` (data pelatihan yang sudah disiapkan). Selama proses pelatihan, model SVD akan mencoba mempelajari representasi faktor laten untuk setiap pengguna dan item sedemikian rupa sehingga ketika faktor-faktor ini dikalikan, hasilnya mendekati rating aktual yang ada di data pelatihan. Ini biasanya dilakukan melalui proses optimasi seperti *Stochastic Gradient Descent (SGD)*.\n",
        "\n",
        "Setelah proses `fit()` selesai, `svd_model` kini berisi model yang telah terlatih dan siap digunakan untuk membuat prediksi rating untuk pasangan pengguna-item yang belum ada di data pelatihan, atau untuk menghasilkan top-N rekomendasi.\n",
        "\n",
        "**Alasan Diperlukannya Tahapan Ini:**\n",
        "Pelatihan model adalah inti dari pendekatan berbasis model dalam machine learning. Dengan melatih model SVD pada data historis rating, kita memungkinkan model untuk \"belajar\" pola preferensi implisit dan karakteristik pengguna serta item. Model yang terlatih ini kemudian dapat menggeneralisasi pengetahuannya untuk memprediksi interaksi di masa depan atau interaksi yang tidak diketahui."
      ],
      "metadata": {
        "id": "T3bVS-fejpdJ"
      }
    },
    {
      "cell_type": "markdown",
      "source": [
        "## **B.3. Collaborative Filtering: Membuat Fungsi Rekomendasi SVD dan Hasilnya**"
      ],
      "metadata": {
        "id": "GgsdKjbgjs3a"
      }
    },
    {
      "cell_type": "code",
      "source": [
        "import pandas as pd\n",
        "\n",
        "def get_movie_recommendations_cf_svd(user_id, svd_model, movies_df, trainset, top_n=10):\n",
        "    \"\"\"\n",
        "    Memberikan rekomendasi film untuk pengguna tertentu menggunakan model SVD terlatih.\n",
        "\n",
        "    Args:\n",
        "        user_id (int): ID pengguna yang ingin diberi rekomendasi.\n",
        "        svd_model (surprise.prediction_algorithms.matrix_factorization.SVD): Model SVD yang sudah terlatih.\n",
        "        movies_df (pd.DataFrame): DataFrame informasi film (harus punya kolom 'movieId', 'title', 'genres').\n",
        "        trainset (surprise.trainset.Trainset): Trainset yang digunakan untuk melatih model (untuk mengetahui item yang sudah dirating).\n",
        "        top_n (int): Jumlah rekomendasi yang diinginkan.\n",
        "\n",
        "    Returns:\n",
        "        pd.DataFrame: DataFrame berisi N film yang direkomendasikan beserta judul, genre, dan prediksi rating,\n",
        "                      atau None jika user_id tidak valid atau tidak ada rekomendasi.\n",
        "    \"\"\"\n",
        "    try:\n",
        "        # Mendapatkan inner id pengguna dari trainset (Surprise menggunakan inner id)\n",
        "        user_inner_id = trainset.to_inner_uid(user_id)\n",
        "    except ValueError:\n",
        "        print(f\"User ID {user_id} tidak ditemukan dalam trainset.\")\n",
        "        return None\n",
        "\n",
        "    # 1. Dapatkan daftar movieId yang sudah dirating oleh pengguna\n",
        "    rated_movie_inner_ids = [item_inner_id for (item_inner_id, _) in trainset.ur[user_inner_id]]\n",
        "    rated_movie_ids = [trainset.to_raw_iid(inner_id) for inner_id in rated_movie_inner_ids]\n",
        "\n",
        "    # 2. Dapatkan semua movieId unik dari movies_df\n",
        "    all_movie_ids = movies_df['movieId'].unique()\n",
        "\n",
        "    # 3. Dapatkan movieId yang belum dirating oleh pengguna\n",
        "    unrated_movie_ids = [movie_id for movie_id in all_movie_ids if movie_id not in rated_movie_ids]\n",
        "\n",
        "    if not unrated_movie_ids:\n",
        "        print(f\"Pengguna {user_id} sudah merating semua film yang ada, atau tidak ada film baru untuk direkomendasikan.\")\n",
        "        return None\n",
        "\n",
        "    # 4. Prediksi rating untuk film yang belum dirating\n",
        "    predictions = []\n",
        "    for movie_id in unrated_movie_ids:\n",
        "        # model.predict() mengembalikan objek Prediction\n",
        "        # Kita butuh nilai estimasi (est)\n",
        "        pred = svd_model.predict(uid=user_id, iid=movie_id)\n",
        "        predictions.append({'movieId': movie_id, 'predicted_rating': pred.est})\n",
        "\n",
        "    # 5. Urutkan prediksi berdasarkan predicted_rating tertinggi\n",
        "    predictions_df = pd.DataFrame(predictions)\n",
        "    top_recommendations = predictions_df.sort_values(by='predicted_rating', ascending=False).head(top_n)\n",
        "\n",
        "    # 6. Gabungkan dengan informasi film (judul, genre)\n",
        "    top_recommendations = top_recommendations.merge(movies_df[['movieId', 'title', 'genres']], on='movieId', how='left')\n",
        "\n",
        "    return top_recommendations[['title', 'genres', 'predicted_rating']]\n",
        "\n",
        "# --- Contoh Penggunaan Fungsi ---\n",
        "# Pilih satu user_id dari dataset Anda untuk diuji\n",
        "# Pastikan user_id ini ada di train_ratings_df['userId']\n",
        "# Anda bisa cek misalnya: train_ratings_df['userId'].unique()\n",
        "contoh_user_id = 1 # Ganti dengan user_id yang valid dari data Anda\n",
        "\n",
        "print(f\"Rekomendasi SVD untuk User ID {contoh_user_id} (Top 10):\\n\")\n",
        "rekomendasi_svd = get_movie_recommendations_cf_svd(contoh_user_id, svd_model, movies_df, trainset_surprise, top_n=10)\n",
        "\n",
        "if rekomendasi_svd is not None:\n",
        "    print(rekomendasi_svd)\n",
        "else:\n",
        "    print(f\"Tidak dapat menghasilkan rekomendasi untuk User ID {contoh_user_id}.\")\n",
        "\n",
        "print(\"\\n\" + \"=\"*50 + \"\\n\")\n",
        "\n",
        "# Contoh lain\n",
        "contoh_user_id_2 = 100 # Ganti dengan user_id yang valid lainnya\n",
        "print(f\"Rekomendasi SVD untuk User ID {contoh_user_id_2} (Top 5):\\n\")\n",
        "rekomendasi_svd_2 = get_movie_recommendations_cf_svd(contoh_user_id_2, svd_model, movies_df, trainset_surprise, top_n=5)\n",
        "\n",
        "if rekomendasi_svd_2 is not None:\n",
        "    print(rekomendasi_svd_2)\n",
        "else:\n",
        "    print(f\"Tidak dapat menghasilkan rekomendasi untuk User ID {contoh_user_id_2}.\")"
      ],
      "metadata": {
        "colab": {
          "base_uri": "https://localhost:8080/"
        },
        "id": "iFtC9rSqjwhU",
        "outputId": "59a6918f-8c66-41fc-9989-1575d4e9ef4e"
      },
      "execution_count": 24,
      "outputs": [
        {
          "output_type": "stream",
          "name": "stdout",
          "text": [
            "Rekomendasi SVD untuk User ID 1 (Top 10):\n",
            "\n",
            "                                              title  \\\n",
            "0                         Lawrence of Arabia (1962)   \n",
            "1                    Godfather: Part II, The (1974)   \n",
            "2                              Touch of Evil (1958)   \n",
            "3                                  Gladiator (1992)   \n",
            "4  Three Billboards Outside Ebbing, Missouri (2017)   \n",
            "5                                    Yojimbo (1961)   \n",
            "6                          Great Escape, The (1963)   \n",
            "7                                      Glory (1989)   \n",
            "8   Grand Day Out with Wallace and Gromit, A (1989)   \n",
            "9                             Godfather, The (1972)   \n",
            "\n",
            "                                       genres  predicted_rating  \n",
            "0                         Adventure|Drama|War               5.0  \n",
            "1                                 Crime|Drama               5.0  \n",
            "2                    Crime|Film-Noir|Thriller               5.0  \n",
            "3                                Action|Drama               5.0  \n",
            "4                                 Crime|Drama               5.0  \n",
            "5                            Action|Adventure               5.0  \n",
            "6                  Action|Adventure|Drama|War               5.0  \n",
            "7                                   Drama|War               5.0  \n",
            "8  Adventure|Animation|Children|Comedy|Sci-Fi               5.0  \n",
            "9                                 Crime|Drama               5.0  \n",
            "\n",
            "==================================================\n",
            "\n",
            "Rekomendasi SVD untuk User ID 100 (Top 5):\n",
            "\n",
            "                                              title  \\\n",
            "0                                    Yojimbo (1961)   \n",
            "1                           Cookie's Fortune (1999)   \n",
            "2                             Cool Hand Luke (1967)   \n",
            "3  Three Billboards Outside Ebbing, Missouri (2017)   \n",
            "4   Grand Day Out with Wallace and Gromit, A (1989)   \n",
            "\n",
            "                                       genres  predicted_rating  \n",
            "0                            Action|Adventure          4.685115  \n",
            "1                                Comedy|Drama          4.678235  \n",
            "2                                       Drama          4.614846  \n",
            "3                                 Crime|Drama          4.612072  \n",
            "4  Adventure|Animation|Children|Comedy|Sci-Fi          4.593617  \n"
          ]
        }
      ]
    },
    {
      "cell_type": "markdown",
      "source": [
        "### B.3. Collaborative Filtering: Fungsi Rekomendasi SVD dan Hasilnya\n",
        "\n",
        "**Cara Kerja Fungsi Rekomendasi SVD:**  \n",
        "Sebuah fungsi `get_movie_recommendations_cf_svd` dikembangkan untuk menghasilkan top-N rekomendasi film bagi pengguna tertentu, berdasarkan model SVD yang telah dilatih. Langkah-langkah utama fungsi ini adalah:\n",
        "1. Menerima input `user_id`, model SVD terlatih (`svd_model`), DataFrame informasi film (`movies_df`), `trainset` dari `Surprise` (untuk mengetahui film yang sudah dirating), dan jumlah rekomendasi (`top_n`).\n",
        "2. Mengidentifikasi semua `movieId` yang **belum pernah** dirating oleh `user_id` tersebut. Ini dilakukan dengan membandingkan daftar semua film yang ada dengan daftar film yang sudah dirating oleh pengguna (diambil dari `trainset`).\n",
        "3. Untuk setiap film yang belum dirating, model SVD (`svd_model.predict()`) digunakan untuk menghasilkan **prediksi rating**.\n",
        "4. Semua prediksi rating untuk film yang belum dirating tersebut dikumpulkan.\n",
        "5. Prediksi diurutkan dari yang memiliki estimasi rating tertinggi ke terendah.\n",
        "6. `top_n` film teratas diambil sebagai rekomendasi.\n",
        "7. Informasi tambahan seperti judul dan genre film kemudian digabungkan ke dalam hasil rekomendasi untuk tampilan yang lebih informatif.\n",
        "\n",
        "---\n",
        "\n",
        "**Contoh Hasil Top-N Recommendation:**\n",
        "\n",
        "#### Untuk User ID: `1`  \n",
        "Berikut adalah 10 film yang direkomendasikan beserta prediksi ratingnya:\n",
        "\n",
        "| title                                                   | genres                                           | predicted_rating |\n",
        "|----------------------------------------------------------|--------------------------------------------------|------------------|\n",
        "| Lawrence of Arabia (1962)                                | Adventure\\|Drama\\|War                            | 5.0              |\n",
        "| Godfather: Part II, The (1974)                           | Crime\\|Drama                                     | 5.0              |\n",
        "| Touch of Evil (1958)                                     | Crime\\|Film-Noir\\|Thriller                       | 5.0              |\n",
        "| Gladiator (1992)                                         | Action\\|Drama                                    | 5.0              |\n",
        "| Three Billboards Outside Ebbing, Missouri (2017)         | Crime\\|Drama                                     | 5.0              |\n",
        "| Yojimbo (1961)                                           | Action\\|Adventure                                | 5.0              |\n",
        "| Great Escape, The (1963)                                 | Action\\|Adventure\\|Drama\\|War                    | 5.0              |\n",
        "| Glory (1989)                                             | Drama\\|War                                       | 5.0              |\n",
        "| Grand Day Out with Wallace and Gromit, A (1989)          | Adventure\\|Animation\\|Children\\|Comedy\\|Sci-Fi   | 5.0              |\n",
        "| Godfather, The (1972)                                    | Crime\\|Drama                                     | 5.0              |\n",
        "\n",
        "*Observasi Singkat:*  \n",
        "Rekomendasi untuk User ID `1` menunjukkan film-film dengan prediksi rating tertinggi, yaitu 5.0 untuk semua 10 film teratas. Ini mengindikasikan bahwa model SVD sangat percaya diri bahwa pengguna ini akan sangat menyukai film-film klasik dan yang mendapat pujian tinggi dari berbagai genre seperti Drama, War, Crime, dan Adventure.\n",
        "\n",
        "---\n",
        "\n",
        "#### Untuk User ID: `100`  \n",
        "Berikut adalah 5 film yang direkomendasikan beserta prediksi ratingnya:\n",
        "\n",
        "| title                                                   | genres                                           | predicted_rating |\n",
        "|----------------------------------------------------------|--------------------------------------------------|------------------|\n",
        "| Yojimbo (1961)                                           | Action\\|Adventure                                | 4.685115         |\n",
        "| Cookie's Fortune (1999)                                  | Comedy\\|Drama                                    | 4.678235         |\n",
        "| Cool Hand Luke (1967)                                    | Drama                                            | 4.614846         |\n",
        "| Three Billboards Outside Ebbing, Missouri (2017)         | Crime\\|Drama                                     | 4.612072         |\n",
        "| Grand Day Out with Wallace and Gromit, A (1989)          | Adventure\\|Animation\\|Children\\|Comedy\\|Sci-Fi   | 4.593617         |\n",
        "\n",
        "*Observasi Singkat:*  \n",
        "Untuk User ID `100`, model SVD merekomendasikan film-film dengan prediksi rating yang juga sangat tinggi, berkisar antara 4.59 hingga 4.68. Rekomendasi ini juga mencakup berbagai genre, menunjukkan kemampuan SVD untuk menangkap preferensi yang mungkin lebih beragam atau nuansa yang tidak hanya berdasarkan genre eksplisit seperti pada Content-Based Filtering."
      ],
      "metadata": {
        "id": "Z2f6Yed_kK0G"
      }
    },
    {
      "cell_type": "markdown",
      "source": [
        "## **B.4. Collaborative Filtering (SVD): Kelebihan dan Kekurangan**"
      ],
      "metadata": {
        "id": "f_vgWlEikQOW"
      }
    },
    {
      "cell_type": "markdown",
      "source": [
        "### B.4. Collaborative Filtering (SVD): Kelebihan dan Kekurangan\n",
        "\n",
        "Pendekatan Collaborative Filtering (CF), khususnya yang menggunakan teknik faktorisasi matriks seperti SVD, memiliki serangkaian kelebihan dan kekurangan yang membedakannya dari Content-Based Filtering:\n",
        "\n",
        "**Kelebihan Collaborative Filtering (SVD):**\n",
        "\n",
        "1.  **Tidak Memerlukan Analisis Konten Item (No Domain Knowledge Required for Item Features):**\n",
        "    * CF bekerja berdasarkan data interaksi pengguna-item (misalnya, rating) saja. Tidak perlu melakukan ekstraksi fitur manual atau analisis mendalam terhadap konten item (seperti genre, deskripsi, dll.). Ini sangat berguna jika metadata item sulit didapatkan atau kompleks untuk diolah.\n",
        "\n",
        "2.  **Mampu Menemukan Rekomendasi yang Mengejutkan (Serendipity & Novelty):**\n",
        "    * Karena CF mempelajari pola dari perilaku kolektif pengguna, ia dapat menemukan item yang menarik bagi pengguna meskipun item tersebut tidak memiliki kemiripan fitur yang jelas dengan apa yang pernah disukai pengguna sebelumnya. Ini memungkinkan penemuan item yang lebih beragam dan tidak terduga (serendipity).\n",
        "\n",
        "3.  **Mempelajari Pola Preferensi yang Kompleks (Learns Complex Patterns):**\n",
        "    * Teknik faktorisasi matriks seperti SVD dapat menangkap hubungan dan pola preferensi yang halus dan kompleks (faktor laten) dalam data yang mungkin tidak terlihat oleh manusia atau oleh model berbasis fitur eksplisit.\n",
        "\n",
        "4.  **Performa yang Cenderung Baik pada Data Padat (Good Performance on Denser Data):**\n",
        "    * Jika data interaksi cukup banyak, model CF (terutama model-based) seringkali dapat menghasilkan rekomendasi yang sangat akurat.\n",
        "\n",
        "5.  **Relatif Baik dalam Menangani Sparsitas (Model-Based CF like SVD):**\n",
        "    * Meskipun data rating seringkali sparse (banyak pasangan user-item yang tidak memiliki rating), teknik faktorisasi matriks seperti SVD dirancang untuk dapat menggeneralisasi dari rating yang ada dan memprediksi rating untuk entri yang kosong, sehingga lebih tahan terhadap sparsitas dibandingkan metode memory-based CF murni.\n",
        "\n",
        "**Kekurangan Collaborative Filtering (SVD):**\n",
        "\n",
        "1.  **Masalah \"Cold Start\" (New User and New Item Cold Start):**\n",
        "    * **Pengguna Baru:** Sulit memberikan rekomendasi yang akurat kepada pengguna baru yang belum memiliki (atau hanya memiliki sedikit) riwayat interaksi/rating, karena tidak ada data perilaku masa lalu untuk dipelajari.\n",
        "    * **Item Baru:** Item baru yang belum pernah mendapatkan rating dari pengguna manapun juga sulit untuk direkomendasikan, karena item tersebut belum masuk ke dalam matriks interaksi yang digunakan untuk melatih model.\n",
        "\n",
        "2.  **Bias Popularitas (Popularity Bias):**\n",
        "    * Algoritma CF seringkali cenderung merekomendasikan item-item yang sudah populer. Hal ini karena item populer memiliki lebih banyak data interaksi, sehingga lebih mudah bagi model untuk \"mempelajarinya\" dan menganggapnya relevan bagi banyak pengguna. Ini bisa membuat item yang kurang populer (niche) lebih sulit untuk muncul dalam rekomendasi.\n",
        "\n",
        "3.  **Ketergantungan pada Jumlah Data Interaksi (Data Sparsity Challenge):**\n",
        "    * Meskipun SVD bisa menangani sparsitas sampai batas tertentu, jika data interaksi pengguna-item sangat sedikit atau sangat sparse, kualitas rekomendasi akan menurun karena model tidak memiliki cukup informasi untuk mempelajari pola preferensi secara efektif.\n",
        "\n",
        "4.  **Kurang Transparan/Sulit Diinterpretasikan (Less Transparency/Interpretability):**\n",
        "    * Rekomendasi yang dihasilkan oleh model berbasis faktorisasi matriks seperti SVD seringkali lebih sulit untuk dijelaskan kepada pengguna (\"black box\"). Menjelaskan mengapa suatu item direkomendasikan berdasarkan \"kecocokan faktor laten\" kurang intuitif dibandingkan penjelasan berbasis fitur (\"Anda menyukai genre ini\").\n",
        "\n",
        "5.  **Skalabilitas untuk Pelatihan (Scalability for Training):**\n",
        "    * Meskipun SVD lebih scalable dibandingkan beberapa metode CF memory-based, melatih model faktorisasi matriks pada dataset yang sangat besar (jutaan pengguna dan item) masih bisa membutuhkan sumber daya komputasi yang signifikan dan waktu yang lama.\n",
        "\n",
        "Dalam implementasi kita, model SVD memberikan rekomendasi berdasarkan pola rating historis, yang bisa jadi berbeda dan melengkapi rekomendasi dari Content-Based Filtering."
      ],
      "metadata": {
        "id": "TEMbfU3dkSDW"
      }
    },
    {
      "cell_type": "markdown",
      "source": [
        "# **Tahap 6: Evaluation!**"
      ],
      "metadata": {
        "id": "JRS0dqtfkZhZ"
      }
    },
    {
      "cell_type": "code",
      "source": [
        "from surprise import accuracy\n",
        "\n",
        "# Membuat prediksi pada testset_surprise menggunakan model SVD yang sudah terlatih\n",
        "predictions_svd = svd_model.test(testset_surprise)\n",
        "\n",
        "# Menghitung RMSE\n",
        "rmse_svd = accuracy.rmse(predictions_svd, verbose=True)\n",
        "\n",
        "# Menghitung MAE\n",
        "mae_svd = accuracy.mae(predictions_svd, verbose=True)\n",
        "\n",
        "print(f\"\\nNilai RMSE untuk model SVD: {rmse_svd}\")\n",
        "print(f\"Nilai MAE untuk model SVD: {mae_svd}\")"
      ],
      "metadata": {
        "colab": {
          "base_uri": "https://localhost:8080/"
        },
        "id": "Qt0v3Hdpkgeg",
        "outputId": "afb36492-fd65-48c6-fc84-e7fa46452af7"
      },
      "execution_count": 25,
      "outputs": [
        {
          "output_type": "stream",
          "name": "stdout",
          "text": [
            "RMSE: 0.8628\n",
            "MAE:  0.6618\n",
            "\n",
            "Nilai RMSE untuk model SVD: 0.8628327358248906\n",
            "Nilai MAE untuk model SVD: 0.6617867151599073\n"
          ]
        }
      ]
    },
    {
      "cell_type": "markdown",
      "source": [
        "### Evaluasi Kinerja Model SVD\n",
        "\n",
        "**Metrik yang Digunakan:**\n",
        "\n",
        "Untuk mengevaluasi akurasi prediksi rating dari model **SVD**, metrik yang digunakan adalah:\n",
        "\n",
        "1. **Root Mean Squared Error (RMSE)**  \n",
        "   Mengukur akar kuadrat dari rata-rata selisih kuadrat antara rating aktual dan prediksi. Memberikan penalti lebih besar untuk error yang lebih besar.\n",
        "\n",
        "   $$\n",
        "   RMSE = \\sqrt{\\frac{1}{N} \\sum_{(u,i) \\in \\text{TestSet}} (r_{ui} - \\hat{r}_{ui})^2}\n",
        "   $$\n",
        "\n",
        "2. **Mean Absolute Error (MAE)**  \n",
        "   Mengukur rata-rata dari selisih absolut antara rating aktual dan prediksi.\n",
        "\n",
        "   $$\n",
        "   MAE = \\frac{1}{N} \\sum_{(u,i) \\in \\text{TestSet}} \\left| r_{ui} - \\hat{r}_{ui} \\right|\n",
        "   $$\n",
        "\n",
        "\n",
        "**Proses Perhitungan:**\n",
        "1.  Model SVD yang telah dilatih digunakan untuk membuat prediksi rating pada `testset_surprise`. Test set ini berisi pasangan pengguna-item beserta rating aktualnya yang tidak dilihat model selama pelatihan.\n",
        "2.  Fungsi `accuracy.rmse()` dan `accuracy.mae()` dari library `Surprise` kemudian menghitung nilai error berdasarkan perbandingan antara rating aktual dan rating hasil prediksi model pada test set tersebut.\n",
        "\n",
        "**Hasil dan Interpretasi:**\n",
        "* Nilai **RMSE** yang diperoleh adalah: **0.8628**\n",
        "* Nilai **MAE** yang diperoleh adalah: **0.6618**\n",
        "\n",
        "Interpretasi hasil ini:\n",
        "* Secara rata-rata, prediksi rating yang diberikan oleh model SVD memiliki kesalahan absolut sebesar **0.6618** poin rating dari rating aktual. Mengingat skala rating kita adalah 0.5 hingga 5.0, ini menunjukkan bahwa rata-rata prediksi model meleset sekitar setengah hingga satu poin rating.\n",
        "* RMSE yang bernilai **0.8628** sedikit lebih tinggi dari MAE, yang mengindikasikan adanya beberapa prediksi dengan error yang lebih besar (karena RMSE lebih sensitif terhadap error besar). Namun, secara umum, kedua nilai ini menunjukkan bahwa model SVD memberikan performa yang cukup baik dalam memprediksi rating pengguna pada dataset MovieLens Small ini.\n",
        "* Nilai ini memberikan gambaran kuantitatif tentang seberapa dekat prediksi model dengan preferensi aktual pengguna. Untuk sistem rekomendasi, nilai RMSE di bawah 1.0 seringkali dianggap sebagai hasil yang cukup baik, terutama sebagai baseline awal."
      ],
      "metadata": {
        "id": "Pl5Qug7jkquz"
      }
    },
    {
      "cell_type": "markdown",
      "source": [
        "## **2. Evaluasi untuk Content-Based Filtering (CBF)**"
      ],
      "metadata": {
        "id": "ndfTilRTk16z"
      }
    },
    {
      "cell_type": "markdown",
      "source": [
        "### Evaluasi Model Content-Based Filtering (CBF)\n",
        "\n",
        "Evaluasi untuk model Content-Based Filtering (CBF) yang dibangun dalam proyek ini mencakup aspek **kualitatif** dan **kuantitatif**. Output utama model adalah daftar film yang mirip berdasarkan fitur konten (genre).\n",
        "\n",
        "#### **a. Evaluasi Kualitatif**\n",
        "\n",
        "**Pendekatan Evaluasi yang Digunakan:**\n",
        "1.  **Observasi Relevansi Hasil Rekomendasi:** Setelah fungsi rekomendasi CBF dibuat, beberapa film sampel (misalnya, 'Toy Story (1995)' dan 'Matrix, The (1999)') digunakan sebagai input untuk menghasilkan daftar Top-N rekomendasi.\n",
        "2.  **Analisis Kesamaan Fitur (Genre):** Genre dari film-film yang direkomendasikan kemudian dibandingkan dengan genre film input. Tujuan utamanya adalah untuk memverifikasi apakah model berhasil mengidentifikasi film-film dengan profil genre yang serupa atau identik.\n",
        "\n",
        "**Hasil dan Interpretasi (Kualitatif):**\n",
        "* Seperti yang ditunjukkan pada bagian \"A.2. Content-Based Filtering: Fungsi Rekomendasi dan Hasilnya\", untuk film input yang diberikan, model CBF secara konsisten merekomendasikan film-film yang memiliki **skor kemiripan genre 1.0**. Ini berarti semua film yang direkomendasikan memiliki **kombinasi genre yang persis sama** dengan film referensi.\n",
        "* Contohnya, untuk 'Toy Story (1995)' yang bergenre `Adventure|Animation|Children|Comedy|Fantasy`, semua 10 film teratas yang direkomendasikan juga memiliki set genre yang identik. Hal serupa terjadi untuk 'Matrix, The (1999)' dengan genre `Action|Sci-Fi|Thriller`.\n",
        "* Hasil ini mengonfirmasi bahwa implementasi Content-Based Filtering menggunakan One-Hot Encoding genre dan Cosine Similarity bekerja sesuai dengan yang diharapkan, yaitu mengidentifikasi item berdasarkan kesamaan maksimal pada fitur yang didefinisikan.\n",
        "\n",
        "---\n",
        "\n",
        "#### **b. Evaluasi Kuantitatif: Precision@K**\n",
        "\n",
        "Meskipun CBF murni berbasis kemiripan item tidak secara langsung memprediksi rating, kita dapat mengevaluasi kemampuannya untuk merekomendasikan item yang relevan kepada pengguna dengan menggunakan metrik seperti Precision@K.\n",
        "\n",
        "**Pendekatan untuk Precision@K:**\n",
        "1.  Kita akan menggunakan `test_ratings_df` sebagai dasar untuk \"ground truth\".\n",
        "2.  Untuk setiap pengguna dalam `test_ratings_df`, kita akan mengambil satu film yang mereka rating tinggi (misalnya, rating >= 4.0) sebagai *query item*.\n",
        "3.  Kita akan meminta rekomendasi Top-K dari model CBF berdasarkan *query item* tersebut.\n",
        "4.  Kemudian, kita akan memeriksa berapa banyak dari K rekomendasi tersebut yang juga merupakan film *lain* yang dirating tinggi oleh pengguna yang sama di `test_ratings_df`.\n",
        "5.  Precision@K dihitung sebagai: (Jumlah item relevan yang direkomendasikan dalam Top-K) / K.\n",
        "6.  Nilai Precision@K rata-rata di seluruh pengguna uji akan dilaporkan.\n",
        "\n",
        "**Metrik yang Digunakan:**\n",
        "\n",
        "- **Precision@K**  \n",
        "  Mengukur proporsi item yang direkomendasikan dalam K item teratas yang benar-benar relevan bagi pengguna.\n",
        "\n",
        "  $$\n",
        "  \\text{Precision@K} = \\frac{\\text{Jumlah item relevan dan direkomendasikan dalam Top-K}}{K}\n",
        "  $$\n"
      ],
      "metadata": {
        "id": "Zu0HXNB3k6Af"
      }
    },
    {
      "cell_type": "code",
      "source": [
        "# ---------------------------------------------------------------------------\n",
        "# EKSEKUSI PERHITUNGAN PRECISION@K (BAGIAN INI TETAP SAMA)\n",
        "# ---------------------------------------------------------------------------\n",
        "# Asumsikan movies_df, test_ratings_df, dan cosine_sim_df sudah ada dari sel sebelumnya\n",
        "# movies_df adalah DataFrame film yang sudah dibersihkan\n",
        "# cosine_sim_df adalah matriks kemiripan (judul x judul) dari movies_df bersih\n",
        "\n",
        "print(\"Memulai perhitungan Precision@K untuk Content-Based Filtering...\")\n",
        "\n",
        "# Hitung Precision@10 untuk CBF\n",
        "precision_cbf_at_10 = calculate_precision_at_k_cbf(\n",
        "    test_ratings_df,\n",
        "    movies_df,\n",
        "    cosine_sim_df,\n",
        "    k_val=10,\n",
        "    rating_thresh=4.0\n",
        ")\n",
        "\n",
        "# Hitung Precision@5 untuk CBF\n",
        "precision_cbf_at_5 = calculate_precision_at_k_cbf(\n",
        "    test_ratings_df,\n",
        "    movies_df,\n",
        "    cosine_sim_df,\n",
        "    k_val=5,\n",
        "    rating_thresh=4.0\n",
        ")\n",
        "\n",
        "# ---------------------------------------------------------------------------\n",
        "# MODIFIKASI TAMPILAN OUTPUT PRINT (BAGIAN INI YANG DIPERBAIKI)\n",
        "# ---------------------------------------------------------------------------\n",
        "\n",
        "print(\"\\n===================================================================\")\n",
        "print(\"           HASIL EVALUASI CONTENT-BASED FILTERING (CBF)          \")\n",
        "print(\"===================================================================\")\n",
        "print(\"Metrik: Precision@K\")\n",
        "print(\"-------------------------------------------------------------------\")\n",
        "print(f\"  Precision@10: {precision_cbf_at_10:.4f}\")\n",
        "print(f\"  Precision@5 : {precision_cbf_at_5:.4f}\")\n",
        "print(\"-------------------------------------------------------------------\")\n",
        "print(\"\\nInterpretasi Singkat:\")\n",
        "if precision_cbf_at_10 < 0.1: # Anda bisa sesuaikan threshold ini\n",
        "    print(\"  > Nilai Precision@K yang diperoleh untuk CBF berbasis genre murni\")\n",
        "    print(\"    cukup rendah. Ini mengindikasikan bahwa kemiripan genre saja\")\n",
        "    print(\"    memiliki keterbatasan dalam merekomendasikan item yang relevan\")\n",
        "    print(\"    secara konsisten menurut riwayat rating pengguna.\")\n",
        "    print(\"  > Untuk Precision@10, dari 10 film yang direkomendasikan, rata-rata\")\n",
        "    print(f\"    kurang dari {precision_cbf_at_10*10:.2f} film yang relevan.\")\n",
        "else:\n",
        "    print(\"  > Model CBF menunjukkan kemampuan untuk merekomendasikan item relevan.\")\n",
        "    print(f\"  > Untuk Precision@10, dari 10 film yang direkomendasikan, rata-rata\")\n",
        "    print(f\"    sekitar {precision_cbf_at_10*10:.2f} film yang relevan.\")\n",
        "\n",
        "print(\"\\nCatatan:\")\n",
        "print(\"  - Evaluasi ini menggunakan satu query item per pengguna dari test set.\")\n",
        "print(\"  - Relevansi ditentukan berdasarkan rating >= 4.0 pada item lain di test set.\")\n",
        "print(\"===================================================================\")"
      ],
      "metadata": {
        "colab": {
          "base_uri": "https://localhost:8080/"
        },
        "id": "GaMr8-0l3wRH",
        "outputId": "6a16a03e-91d4-4a72-b42e-693090f5c277"
      },
      "execution_count": 29,
      "outputs": [
        {
          "output_type": "stream",
          "name": "stdout",
          "text": [
            "Memulai perhitungan Precision@K untuk Content-Based Filtering...\n",
            "\n",
            "===================================================================\n",
            "           HASIL EVALUASI CONTENT-BASED FILTERING (CBF)          \n",
            "===================================================================\n",
            "Metrik: Precision@K\n",
            "-------------------------------------------------------------------\n",
            "  Precision@10: 0.0037\n",
            "  Precision@5 : 0.0032\n",
            "-------------------------------------------------------------------\n",
            "\n",
            "Interpretasi Singkat:\n",
            "  > Nilai Precision@K yang diperoleh untuk CBF berbasis genre murni\n",
            "    cukup rendah. Ini mengindikasikan bahwa kemiripan genre saja\n",
            "    memiliki keterbatasan dalam merekomendasikan item yang relevan\n",
            "    secara konsisten menurut riwayat rating pengguna.\n",
            "  > Untuk Precision@10, dari 10 film yang direkomendasikan, rata-rata\n",
            "    kurang dari 0.04 film yang relevan.\n",
            "\n",
            "Catatan:\n",
            "  - Evaluasi ini menggunakan satu query item per pengguna dari test set.\n",
            "  - Relevansi ditentukan berdasarkan rating >= 4.0 pada item lain di test set.\n",
            "===================================================================\n"
          ]
        }
      ]
    }
  ],
  "metadata": {
    "kernelspec": {
      "display_name": "Python 3",
      "language": "python",
      "name": "python3"
    },
    "language_info": {
      "name": "python",
      "version": "3.8.0 (tags/v3.8.0:fa919fd, Oct 14 2019, 19:21:23) [MSC v.1916 32 bit (Intel)]"
    },
    "orig_nbformat": 4,
    "vscode": {
      "interpreter": {
        "hash": "972b3bf27e332e87b5379f2791f6ef9dfc79c71018c370b0d7423235e20fe4d7"
      }
    },
    "colab": {
      "provenance": []
    }
  },
  "nbformat": 4,
  "nbformat_minor": 0
}